{
 "cells": [
  {
   "cell_type": "code",
   "execution_count": 2,
   "metadata": {},
   "outputs": [],
   "source": [
    "import pandas as pd\n",
    "from sklearn.model_selection import train_test_split, learning_curve, cross_val_score, GridSearchCV\n",
    "from sklearn.metrics import mean_squared_error, r2_score, mean_absolute_error, mean_absolute_percentage_error\n",
    "import numpy as np\n",
    "import matplotlib.pyplot as plt\n",
    "from sklearn.ensemble import RandomForestRegressor\n",
    "import pickle"
   ]
  },
  {
   "cell_type": "code",
   "execution_count": null,
   "metadata": {},
   "outputs": [
    {
     "data": {
      "text/html": [
       "<div>\n",
       "<style scoped>\n",
       "    .dataframe tbody tr th:only-of-type {\n",
       "        vertical-align: middle;\n",
       "    }\n",
       "\n",
       "    .dataframe tbody tr th {\n",
       "        vertical-align: top;\n",
       "    }\n",
       "\n",
       "    .dataframe thead th {\n",
       "        text-align: right;\n",
       "    }\n",
       "</style>\n",
       "<table border=\"1\" class=\"dataframe\">\n",
       "  <thead>\n",
       "    <tr style=\"text-align: right;\">\n",
       "      <th></th>\n",
       "      <th>delegation</th>\n",
       "      <th>superficie</th>\n",
       "      <th>nb_pieces</th>\n",
       "      <th>chambres</th>\n",
       "      <th>salle_de_bains</th>\n",
       "      <th>etage</th>\n",
       "      <th>gouvernorat_ariana</th>\n",
       "      <th>gouvernorat_ben-arous</th>\n",
       "      <th>gouvernorat_la-manouba</th>\n",
       "      <th>gouvernorat_tunis</th>\n",
       "      <th>prix</th>\n",
       "    </tr>\n",
       "  </thead>\n",
       "  <tbody>\n",
       "    <tr>\n",
       "      <th>0</th>\n",
       "      <td>9.0</td>\n",
       "      <td>88.0</td>\n",
       "      <td>3.0</td>\n",
       "      <td>2</td>\n",
       "      <td>1</td>\n",
       "      <td>1</td>\n",
       "      <td>0.0</td>\n",
       "      <td>0.0</td>\n",
       "      <td>0.0</td>\n",
       "      <td>1.0</td>\n",
       "      <td>340000.0</td>\n",
       "    </tr>\n",
       "    <tr>\n",
       "      <th>1</th>\n",
       "      <td>23.0</td>\n",
       "      <td>100.0</td>\n",
       "      <td>2.0</td>\n",
       "      <td>2</td>\n",
       "      <td>1</td>\n",
       "      <td>1</td>\n",
       "      <td>0.0</td>\n",
       "      <td>0.0</td>\n",
       "      <td>0.0</td>\n",
       "      <td>1.0</td>\n",
       "      <td>135000.0</td>\n",
       "    </tr>\n",
       "    <tr>\n",
       "      <th>2</th>\n",
       "      <td>33.0</td>\n",
       "      <td>152.0</td>\n",
       "      <td>2.0</td>\n",
       "      <td>2</td>\n",
       "      <td>1</td>\n",
       "      <td>1</td>\n",
       "      <td>0.0</td>\n",
       "      <td>0.0</td>\n",
       "      <td>0.0</td>\n",
       "      <td>1.0</td>\n",
       "      <td>680000.0</td>\n",
       "    </tr>\n",
       "    <tr>\n",
       "      <th>3</th>\n",
       "      <td>33.0</td>\n",
       "      <td>120.0</td>\n",
       "      <td>2.0</td>\n",
       "      <td>1</td>\n",
       "      <td>1</td>\n",
       "      <td>1</td>\n",
       "      <td>0.0</td>\n",
       "      <td>0.0</td>\n",
       "      <td>0.0</td>\n",
       "      <td>1.0</td>\n",
       "      <td>470000.0</td>\n",
       "    </tr>\n",
       "    <tr>\n",
       "      <th>4</th>\n",
       "      <td>28.0</td>\n",
       "      <td>145.0</td>\n",
       "      <td>4.0</td>\n",
       "      <td>3</td>\n",
       "      <td>1</td>\n",
       "      <td>4</td>\n",
       "      <td>0.0</td>\n",
       "      <td>0.0</td>\n",
       "      <td>0.0</td>\n",
       "      <td>1.0</td>\n",
       "      <td>260000.0</td>\n",
       "    </tr>\n",
       "  </tbody>\n",
       "</table>\n",
       "</div>"
      ],
      "text/plain": [
       "   delegation  superficie  nb_pieces  chambres  salle_de_bains  etage  \\\n",
       "0         9.0        88.0        3.0         2               1      1   \n",
       "1        23.0       100.0        2.0         2               1      1   \n",
       "2        33.0       152.0        2.0         2               1      1   \n",
       "3        33.0       120.0        2.0         1               1      1   \n",
       "4        28.0       145.0        4.0         3               1      4   \n",
       "\n",
       "   gouvernorat_ariana  gouvernorat_ben-arous  gouvernorat_la-manouba  \\\n",
       "0                 0.0                    0.0                     0.0   \n",
       "1                 0.0                    0.0                     0.0   \n",
       "2                 0.0                    0.0                     0.0   \n",
       "3                 0.0                    0.0                     0.0   \n",
       "4                 0.0                    0.0                     0.0   \n",
       "\n",
       "   gouvernorat_tunis      prix  \n",
       "0                1.0  340000.0  \n",
       "1                1.0  135000.0  \n",
       "2                1.0  680000.0  \n",
       "3                1.0  470000.0  \n",
       "4                1.0  260000.0  "
      ]
     },
     "execution_count": 3,
     "metadata": {},
     "output_type": "execute_result"
    }
   ],
   "source": [
    "df= pd.read_csv('../csv/after_cleaning/mubawab_tayara_menzili_final.csv')\n",
    "df.head()"
   ]
  },
  {
   "cell_type": "markdown",
   "metadata": {},
   "source": [
    "**train test split**"
   ]
  },
  {
   "cell_type": "markdown",
   "metadata": {},
   "source": [
    "NOTE: Tree-based models are not affected by the scale of features because they split based on feature thresholds"
   ]
  },
  {
   "cell_type": "code",
   "execution_count": 4,
   "metadata": {},
   "outputs": [],
   "source": [
    "X= df.drop(columns='prix')\n",
    "\n",
    "y= df['prix']\n",
    "\n",
    "X_train, X_test, y_train, y_test= train_test_split(X, y, test_size=0.2, random_state=42)"
   ]
  },
  {
   "cell_type": "markdown",
   "metadata": {},
   "source": [
    "# Random Forest"
   ]
  },
  {
   "cell_type": "markdown",
   "metadata": {},
   "source": [
    "**parameters tuning**"
   ]
  },
  {
   "cell_type": "code",
   "execution_count": 5,
   "metadata": {},
   "outputs": [
    {
     "name": "stdout",
     "output_type": "stream",
     "text": [
      "Fitting 10 folds for each of 720 candidates, totalling 7200 fits\n"
     ]
    },
    {
     "name": "stderr",
     "output_type": "stream",
     "text": [
      "/home/lost-elf/Apartments-Sales/venv/lib/python3.10/site-packages/joblib/externals/loky/process_executor.py:752: UserWarning: A worker stopped while some jobs were given to the executor. This can be caused by a too short worker timeout or by a memory leak.\n",
      "  warnings.warn(\n",
      "/home/lost-elf/Apartments-Sales/venv/lib/python3.10/site-packages/sklearn/model_selection/_validation.py:540: FitFailedWarning: \n",
      "1800 fits failed out of a total of 7200.\n",
      "The score on these train-test partitions for these parameters will be set to nan.\n",
      "If these failures are not expected, you can try to debug them by setting error_score='raise'.\n",
      "\n",
      "Below are more details about the failures:\n",
      "--------------------------------------------------------------------------------\n",
      "532 fits failed with the following error:\n",
      "Traceback (most recent call last):\n",
      "  File \"/home/lost-elf/Apartments-Sales/venv/lib/python3.10/site-packages/sklearn/model_selection/_validation.py\", line 888, in _fit_and_score\n",
      "    estimator.fit(X_train, y_train, **fit_params)\n",
      "  File \"/home/lost-elf/Apartments-Sales/venv/lib/python3.10/site-packages/sklearn/base.py\", line 1466, in wrapper\n",
      "    estimator._validate_params()\n",
      "  File \"/home/lost-elf/Apartments-Sales/venv/lib/python3.10/site-packages/sklearn/base.py\", line 666, in _validate_params\n",
      "    validate_parameter_constraints(\n",
      "  File \"/home/lost-elf/Apartments-Sales/venv/lib/python3.10/site-packages/sklearn/utils/_param_validation.py\", line 95, in validate_parameter_constraints\n",
      "    raise InvalidParameterError(\n",
      "sklearn.utils._param_validation.InvalidParameterError: The 'max_features' parameter of RandomForestRegressor must be an int in the range [1, inf), a float in the range (0.0, 1.0], a str among {'sqrt', 'log2'} or None. Got 'auto' instead.\n",
      "\n",
      "--------------------------------------------------------------------------------\n",
      "1268 fits failed with the following error:\n",
      "Traceback (most recent call last):\n",
      "  File \"/home/lost-elf/Apartments-Sales/venv/lib/python3.10/site-packages/sklearn/model_selection/_validation.py\", line 888, in _fit_and_score\n",
      "    estimator.fit(X_train, y_train, **fit_params)\n",
      "  File \"/home/lost-elf/Apartments-Sales/venv/lib/python3.10/site-packages/sklearn/base.py\", line 1466, in wrapper\n",
      "    estimator._validate_params()\n",
      "  File \"/home/lost-elf/Apartments-Sales/venv/lib/python3.10/site-packages/sklearn/base.py\", line 666, in _validate_params\n",
      "    validate_parameter_constraints(\n",
      "  File \"/home/lost-elf/Apartments-Sales/venv/lib/python3.10/site-packages/sklearn/utils/_param_validation.py\", line 95, in validate_parameter_constraints\n",
      "    raise InvalidParameterError(\n",
      "sklearn.utils._param_validation.InvalidParameterError: The 'max_features' parameter of RandomForestRegressor must be an int in the range [1, inf), a float in the range (0.0, 1.0], a str among {'log2', 'sqrt'} or None. Got 'auto' instead.\n",
      "\n",
      "  warnings.warn(some_fits_failed_message, FitFailedWarning)\n",
      "/home/lost-elf/Apartments-Sales/venv/lib/python3.10/site-packages/sklearn/model_selection/_search.py:1103: UserWarning: One or more of the test scores are non-finite: [       nan        nan        nan        nan        nan        nan\n",
      "        nan        nan        nan        nan        nan        nan\n",
      "        nan        nan        nan        nan        nan        nan\n",
      "        nan        nan        nan        nan        nan        nan\n",
      "        nan        nan        nan        nan        nan        nan\n",
      "        nan        nan        nan        nan        nan        nan\n",
      " 0.63035896 0.64497241 0.64680715 0.64769312 0.6432806  0.64468065\n",
      " 0.64633925 0.64971988 0.64627648 0.64308401 0.64636271 0.64889466\n",
      " 0.62783212 0.65216686 0.64738889 0.64706954 0.63310391 0.64546753\n",
      " 0.64671156 0.64682727 0.63638477 0.64294005 0.64974458 0.64800049\n",
      " 0.63247821 0.64493208 0.64808154 0.64800182 0.62720537 0.65000526\n",
      " 0.64638546 0.64859931 0.63437661 0.64763917 0.64856313 0.64938314\n",
      " 0.6388189  0.64714415 0.64591139 0.64749431 0.64069996 0.6447041\n",
      " 0.64728883 0.64749513 0.62924626 0.64755716 0.64643037 0.64810487\n",
      " 0.63656543 0.64742745 0.64754986 0.64840013 0.63511038 0.64762845\n",
      " 0.64934936 0.64675199 0.62273039 0.64695442 0.64635989 0.64820345\n",
      " 0.64267468 0.64706404 0.6499502  0.64950819 0.6337927  0.64629855\n",
      " 0.64812081 0.64913428 0.6331301  0.64790049 0.6473834  0.65014016\n",
      " 0.66724715 0.669477   0.67017311 0.67069746 0.66740735 0.6715923\n",
      " 0.67092599 0.67030978 0.66459227 0.6721481  0.67234951 0.6718977\n",
      " 0.66485662 0.67228549 0.67338371 0.67143562 0.6694648  0.67296375\n",
      " 0.67272215 0.6727693  0.66977965 0.67061805 0.67318782 0.67292742\n",
      " 0.67145586 0.67494734 0.67441315 0.67348665 0.66840914 0.67337002\n",
      " 0.67319098 0.67518929 0.66368574 0.67419873 0.67410417 0.67424745\n",
      "        nan        nan        nan        nan        nan        nan\n",
      "        nan        nan        nan        nan        nan        nan\n",
      "        nan        nan        nan        nan        nan        nan\n",
      "        nan        nan        nan        nan        nan        nan\n",
      "        nan        nan        nan        nan        nan        nan\n",
      "        nan        nan        nan        nan        nan        nan\n",
      " 0.66519898 0.68766621 0.6877288  0.69242336 0.6642692  0.69367466\n",
      " 0.69437263 0.69408347 0.67761388 0.693814   0.69426279 0.69536022\n",
      " 0.68007067 0.69331839 0.69367883 0.69491675 0.68572429 0.69261991\n",
      " 0.69402211 0.69362338 0.68164129 0.69013089 0.69320564 0.69486251\n",
      " 0.68462175 0.69256803 0.69335505 0.6933849  0.68199648 0.69431708\n",
      " 0.69316739 0.69373797 0.68219718 0.69162801 0.69385371 0.69452974\n",
      " 0.6727392  0.6885505  0.69219669 0.69163264 0.67758217 0.69262486\n",
      " 0.6936416  0.69427196 0.684961   0.69448632 0.69495579 0.69600068\n",
      " 0.68099201 0.69167283 0.69566679 0.69566595 0.68179977 0.69441718\n",
      " 0.69556293 0.6960108  0.68523584 0.69327481 0.69525563 0.69600777\n",
      " 0.68204016 0.69269675 0.69232309 0.69393461 0.68240768 0.69187902\n",
      " 0.69241385 0.69435823 0.68142705 0.69182938 0.69205401 0.6940737\n",
      " 0.6601732  0.66876503 0.66765583 0.67249375 0.66419727 0.67462132\n",
      " 0.67871196 0.68080677 0.67907917 0.6873168  0.68856388 0.68925709\n",
      " 0.67652146 0.68060132 0.68128994 0.68207901 0.67014763 0.67970728\n",
      " 0.68354005 0.68609735 0.6751096  0.68745336 0.69086655 0.69169151\n",
      " 0.67676079 0.68826236 0.68962474 0.69026141 0.67995865 0.68827819\n",
      " 0.69046451 0.69118596 0.6849418  0.69183085 0.69103411 0.69174044\n",
      "        nan        nan        nan        nan        nan        nan\n",
      "        nan        nan        nan        nan        nan        nan\n",
      "        nan        nan        nan        nan        nan        nan\n",
      "        nan        nan        nan        nan        nan        nan\n",
      "        nan        nan        nan        nan        nan        nan\n",
      "        nan        nan        nan        nan        nan        nan\n",
      " 0.67098286 0.67833976 0.68504722 0.69120493 0.67444428 0.69066401\n",
      " 0.69554005 0.69408923 0.68245425 0.69790241 0.69912482 0.69987895\n",
      " 0.67786148 0.69447801 0.69643427 0.69663186 0.68440561 0.69307857\n",
      " 0.69732809 0.69632346 0.69090838 0.69451252 0.69708412 0.69697237\n",
      " 0.68417443 0.69490044 0.69721717 0.69689886 0.68453072 0.69524343\n",
      " 0.69760089 0.69692471 0.6880653  0.69311462 0.6963747  0.69828304\n",
      " 0.65988398 0.68547388 0.68494659 0.6895446  0.6735951  0.69664852\n",
      " 0.69659683 0.69805936 0.68126799 0.69507717 0.69718007 0.70000098\n",
      " 0.67763813 0.69575634 0.69553118 0.69768608 0.67809723 0.69624825\n",
      " 0.69767234 0.69704428 0.68477012 0.6971735  0.69788603 0.69721378\n",
      " 0.67886065 0.69354895 0.69809587 0.69745558 0.68594667 0.69587642\n",
      " 0.69713698 0.69615859 0.68931735 0.69517415 0.69607236 0.69614363\n",
      " 0.65148446 0.66455018 0.66327959 0.66027465 0.64660215 0.67398729\n",
      " 0.67637459 0.68015237 0.67043221 0.6866591  0.68869141 0.68884899\n",
      " 0.66797365 0.67877425 0.67935332 0.68191208 0.66628412 0.68136689\n",
      " 0.68521153 0.68289338 0.68079343 0.68719891 0.688617   0.69051909\n",
      " 0.6787172  0.69057407 0.68864905 0.69075561 0.67744936 0.68708672\n",
      " 0.69020656 0.68994884 0.67698014 0.68994657 0.69018062 0.69138275\n",
      "        nan        nan        nan        nan        nan        nan\n",
      "        nan        nan        nan        nan        nan        nan\n",
      "        nan        nan        nan        nan        nan        nan\n",
      "        nan        nan        nan        nan        nan        nan\n",
      "        nan        nan        nan        nan        nan        nan\n",
      "        nan        nan        nan        nan        nan        nan\n",
      " 0.64865305 0.68340667 0.68465065 0.68691413 0.6716107  0.69440048\n",
      " 0.6955114  0.69613194 0.68940392 0.69530596 0.69673675 0.69871956\n",
      " 0.68063351 0.69326416 0.69644179 0.69607939 0.68315757 0.69628032\n",
      " 0.69775958 0.69769679 0.68637764 0.69528089 0.69738012 0.69839636\n",
      " 0.68716301 0.69448628 0.69570455 0.69738652 0.68503688 0.69453998\n",
      " 0.69711383 0.69656723 0.68341163 0.69479375 0.69765    0.69740367\n",
      " 0.65927516 0.68171254 0.68629044 0.68466149 0.67147386 0.69256528\n",
      " 0.6948179  0.69521307 0.67756318 0.69644894 0.69846499 0.69920003\n",
      " 0.68257462 0.69299897 0.69784447 0.69771822 0.67430561 0.6971026\n",
      " 0.69832471 0.69766288 0.68234    0.69547577 0.69843169 0.69793465\n",
      " 0.67997636 0.69366128 0.69792191 0.69692859 0.68365578 0.69691184\n",
      " 0.69646991 0.69727277 0.6824729  0.69592149 0.69732504 0.69839635\n",
      " 0.6245485  0.65127899 0.66001233 0.65998401 0.65863391 0.67674199\n",
      " 0.67532278 0.67585989 0.67526967 0.68493833 0.68704613 0.68905585\n",
      " 0.66439138 0.67524477 0.681198   0.67927001 0.6673753  0.67808581\n",
      " 0.68226391 0.68269524 0.67999898 0.68702257 0.68781071 0.68944071\n",
      " 0.68000851 0.68941209 0.68759747 0.69080088 0.67962185 0.68771159\n",
      " 0.69087626 0.68999349 0.68681324 0.69040462 0.69078213 0.69184601\n",
      "        nan        nan        nan        nan        nan        nan\n",
      "        nan        nan        nan        nan        nan        nan\n",
      "        nan        nan        nan        nan        nan        nan\n",
      "        nan        nan        nan        nan        nan        nan\n",
      "        nan        nan        nan        nan        nan        nan\n",
      "        nan        nan        nan        nan        nan        nan\n",
      " 0.65239478 0.68319597 0.68395017 0.68344431 0.67652772 0.69425733\n",
      " 0.69437148 0.69585508 0.67796075 0.69401451 0.69896321 0.69855307\n",
      " 0.68357824 0.69224305 0.69815646 0.69678446 0.68024865 0.69538464\n",
      " 0.69698286 0.69850005 0.68389027 0.69508479 0.69650306 0.69764255\n",
      " 0.68218921 0.69200142 0.6962356  0.69666487 0.68367985 0.69593822\n",
      " 0.6959186  0.69746157 0.68428628 0.69457672 0.69568766 0.69646188\n",
      " 0.6447018  0.67972869 0.68332266 0.68451382 0.67856345 0.6934631\n",
      " 0.69543986 0.6969039  0.68953522 0.69308845 0.69964704 0.70120214\n",
      " 0.68364467 0.69173463 0.69675128 0.69902793 0.68707043 0.6952786\n",
      " 0.6989049  0.69780609 0.68244188 0.69432467 0.696433   0.69758307\n",
      " 0.67991745 0.69634854 0.69691151 0.69717816 0.68580062 0.6962405\n",
      " 0.69767848 0.69768447 0.68550421 0.69612731 0.69604798 0.69742502\n",
      " 0.63145894 0.64792371 0.65461893 0.6599503  0.65172148 0.67819624\n",
      " 0.67841276 0.67930944 0.66711977 0.68406686 0.68885355 0.68963945\n",
      " 0.66751269 0.67243532 0.67608189 0.67866312 0.66927855 0.6786434\n",
      " 0.67952152 0.68343992 0.6793742  0.68761613 0.68902826 0.6903027\n",
      " 0.67682644 0.6858411  0.68863627 0.69137414 0.68591975 0.6882201\n",
      " 0.68973431 0.68982278 0.68540174 0.68940458 0.68895855 0.692288  ]\n",
      "  warnings.warn(\n"
     ]
    },
    {
     "name": "stdout",
     "output_type": "stream",
     "text": [
      "Best parameters: {'max_depth': None, 'max_features': 'log2', 'min_samples_leaf': 1, 'min_samples_split': 10, 'n_estimators': 200}\n",
      "Best CV score: 0.7012021376425157\n"
     ]
    }
   ],
   "source": [
    "\n",
    "# Hyperparameters to tune\n",
    "param_grid = {\n",
    "    'max_depth': [5, 10, 15, 20, None],\n",
    "    'min_samples_split': [2, 5, 10],\n",
    "    'min_samples_leaf': [1, 2, 4],\n",
    "    'max_features': ['auto', 'sqrt', 'log2', None],\n",
    "    'n_estimators': [10, 50, 100, 200]\n",
    "}\n",
    "\n",
    "# Grid Search\n",
    "grid_search = GridSearchCV(RandomForestRegressor(), param_grid, cv=10, n_jobs=-1, verbose=1)\n",
    "grid_search.fit(X_train, y_train)\n",
    "\n",
    "# Best parameters and best score\n",
    "print(\"Best parameters:\", grid_search.best_params_)\n",
    "print(\"Best CV score:\", grid_search.best_score_)\n"
   ]
  },
  {
   "cell_type": "code",
   "execution_count": 6,
   "metadata": {},
   "outputs": [],
   "source": [
    "model= RandomForestRegressor(**grid_search.best_params_, oob_score= True)\n",
    "model.fit(X_train, y_train)\n",
    "\n",
    "y_hat= model.predict(X_test)"
   ]
  },
  {
   "cell_type": "code",
   "execution_count": 7,
   "metadata": {},
   "outputs": [
    {
     "name": "stdout",
     "output_type": "stream",
     "text": [
      "Mean Absolute Error (MAE): 98067.72696474663\n",
      "Root Mean Squared Error (RMSE): 157615.91894545095\n",
      "Mean Squared Error (MSE): 24842777905.018967\n",
      "Mean Absolute Percentage Error (MAPE): 0.2680443314222973\n",
      "R²: 0.7921853833362767\n"
     ]
    }
   ],
   "source": [
    "mae = mean_absolute_error(y_test, y_hat)\n",
    "mse = mean_squared_error(y_test, y_hat)\n",
    "rmse = np.sqrt(mean_squared_error(y_test, y_hat))\n",
    "mape=mean_absolute_percentage_error(y_test, y_hat)\n",
    "r2 = r2_score(y_test, y_hat)\n",
    "\n",
    "\n",
    "print(f\"Mean Absolute Error (MAE): {mae}\")\n",
    "print(f\"Root Mean Squared Error (RMSE): {rmse}\")\n",
    "print(f\"Mean Squared Error (MSE): {mse}\")\n",
    "print(f\"Mean Absolute Percentage Error (MAPE): {mape}\")\n",
    "print(f\"R²: {r2}\")"
   ]
  },
  {
   "cell_type": "code",
   "execution_count": 8,
   "metadata": {},
   "outputs": [
    {
     "name": "stdout",
     "output_type": "stream",
     "text": [
      "===== Training Metrics =====\n",
      "Mean Absolute Error (MAE): 75594.4952\n",
      "Root Mean Squared Error (RMSE): 150558.9541\n",
      "Mean Squared Error (MSE): 22667998663.8665\n",
      "Mean Absolute Percentage Error (MAPE): 0.1981\n",
      "R²: 0.8266\n",
      "\n",
      "===== Testing Metrics =====\n",
      "Mean Absolute Error (MAE): 98067.7270\n",
      "Root Mean Squared Error (RMSE): 157615.9189\n",
      "Mean Squared Error (MSE): 24842777905.0190\n",
      "Mean Absolute Percentage Error (MAPE): 0.2680\n",
      "R²: 0.7922\n"
     ]
    }
   ],
   "source": [
    "y_train_pred = model.predict(X_train)\n",
    "y_test_pred = model.predict(X_test)\n",
    "\n",
    "# Train metrics\n",
    "mae_train = mean_absolute_error(y_train, y_train_pred)\n",
    "mse_train = mean_squared_error(y_train, y_train_pred)\n",
    "rmse_train = np.sqrt(mse_train)\n",
    "mape_train = mean_absolute_percentage_error(y_train, y_train_pred)\n",
    "r2_train = r2_score(y_train, y_train_pred)\n",
    "\n",
    "# Test metrics\n",
    "mae_test = mean_absolute_error(y_test, y_test_pred)\n",
    "mse_test = mean_squared_error(y_test, y_test_pred)\n",
    "rmse_test = np.sqrt(mse_test)\n",
    "mape_test = mean_absolute_percentage_error(y_test, y_test_pred)\n",
    "r2_test = r2_score(y_test, y_test_pred)\n",
    "\n",
    "# Display results\n",
    "print(\"===== Training Metrics =====\")\n",
    "print(f\"Mean Absolute Error (MAE): {mae_train:.4f}\")\n",
    "print(f\"Root Mean Squared Error (RMSE): {rmse_train:.4f}\")\n",
    "print(f\"Mean Squared Error (MSE): {mse_train:.4f}\")\n",
    "print(f\"Mean Absolute Percentage Error (MAPE): {mape_train:.4f}\")\n",
    "print(f\"R²: {r2_train:.4f}\")\n",
    "\n",
    "print(\"\\n===== Testing Metrics =====\")\n",
    "print(f\"Mean Absolute Error (MAE): {mae_test:.4f}\")\n",
    "print(f\"Root Mean Squared Error (RMSE): {rmse_test:.4f}\")\n",
    "print(f\"Mean Squared Error (MSE): {mse_test:.4f}\")\n",
    "print(f\"Mean Absolute Percentage Error (MAPE): {mape_test:.4f}\")\n",
    "print(f\"R²: {r2_test:.4f}\")\n"
   ]
  },
  {
   "cell_type": "markdown",
   "metadata": {},
   "source": [
    "**R² is around 80% , this means that model explains about 80% of the variance in apartment prices.\n",
    "The higher the R², the better the model’s fit to the data.**"
   ]
  },
  {
   "cell_type": "markdown",
   "metadata": {},
   "source": [
    "**cross validation**"
   ]
  },
  {
   "cell_type": "code",
   "execution_count": 10,
   "metadata": {},
   "outputs": [
    {
     "data": {
      "image/png": "[encoded data removed]",
      "text/plain": [
       "<Figure size 640x480 with 1 Axes>"
      ]
     },
     "metadata": {},
     "output_type": "display_data"
    },
    {
     "name": "stdout",
     "output_type": "stream",
     "text": [
      "Average CV Score: 0.6995980198083848\n"
     ]
    }
   ],
   "source": [
    "cv_scores = cross_val_score(model, X_train, y_train, cv=10)\n",
    "\n",
    "# Plotting the cross-validation scores\n",
    "plt.boxplot(cv_scores)\n",
    "plt.title('Cross-Validation Scores for Random Forest')\n",
    "plt.ylabel('Score')\n",
    "plt.show()\n",
    "\n",
    "print(f'Average CV Score: {cv_scores.mean()}')\n"
   ]
  },
  {
   "cell_type": "markdown",
   "metadata": {},
   "source": [
    "**around 70% accuracy**"
   ]
  },
  {
   "cell_type": "markdown",
   "metadata": {},
   "source": [
    "**OOB: out of bag error**"
   ]
  },
  {
   "cell_type": "code",
   "execution_count": 11,
   "metadata": {},
   "outputs": [
    {
     "name": "stdout",
     "output_type": "stream",
     "text": [
      "OOB Score: 0.6883515258519999\n"
     ]
    }
   ],
   "source": [
    "# OOB error score\n",
    "print(f\"OOB Score: {model.oob_score_}\")"
   ]
  },
  {
   "cell_type": "markdown",
   "metadata": {},
   "source": [
    "**learning curve**"
   ]
  },
  {
   "cell_type": "code",
   "execution_count": 12,
   "metadata": {},
   "outputs": [
    {
     "data": {
      "image/png": "[encoded data removed]",
      "text/plain": [
       "<Figure size 640x480 with 1 Axes>"
      ]
     },
     "metadata": {},
     "output_type": "display_data"
    }
   ],
   "source": [
    "\n",
    "train_sizes, train_scores, test_scores = learning_curve(model, X_train, y_train, cv=5)\n",
    "\n",
    "plt.plot(train_sizes, np.mean(train_scores, axis=1), label='Train score')\n",
    "plt.plot(train_sizes, np.mean(test_scores, axis=1), label='Test score')\n",
    "plt.xlabel('Training Size')\n",
    "plt.ylabel('Score')\n",
    "plt.title('Learning Curves')\n",
    "plt.legend()\n",
    "plt.show()\n"
   ]
  },
  {
   "cell_type": "markdown",
   "metadata": {},
   "source": [
    "The test score starts low but increases as the training size increases, which suggests that adding more data improves generalization.\n",
    " \n",
    "There is still a noticeable gap between train and test scores, indicating that the model may be slightly overfitting.\n"
   ]
  },
  {
   "cell_type": "markdown",
   "metadata": {},
   "source": [
    "**compressed model**"
   ]
  },
  {
   "cell_type": "code",
   "execution_count": 13,
   "metadata": {},
   "outputs": [],
   "source": [
    "# save object to pickle file\n",
    "with open(r\"./compressed_models/RF_model.pickle\", \"wb\") as fout:\n",
    "    pickle.dump(model, fout)\n"
   ]
  },
  {
   "cell_type": "code",
   "execution_count": 14,
   "metadata": {},
   "outputs": [
    {
     "name": "stdout",
     "output_type": "stream",
     "text": [
      "RandomForestRegressor(max_features='log2', min_samples_split=10,\n",
      "                      n_estimators=200, oob_score=True)\n"
     ]
    }
   ],
   "source": [
    "# open pickle file and load\n",
    "with open(r\"./compressed_models/RF_model.pickle\", \"rb\") as fin:\n",
    "    RF = pickle.load(fin)\n",
    "# display loaded object\n",
    "print(RF)\n"
   ]
  },
  {
   "cell_type": "code",
   "execution_count": 15,
   "metadata": {},
   "outputs": [
    {
     "data": {
      "text/plain": [
       "array([319175.21454671, 318791.47247896, 355263.03991826, ...,\n",
       "       989884.00545703, 815552.22163908, 154220.87642123])"
      ]
     },
     "execution_count": 15,
     "metadata": {},
     "output_type": "execute_result"
    }
   ],
   "source": [
    "RF.predict(X_test)"
   ]
  },
  {
   "cell_type": "code",
   "execution_count": null,
   "metadata": {},
   "outputs": [],
   "source": []
  }
 ],
 "metadata": {
  "kernelspec": {
   "display_name": "venv",
   "language": "python",
   "name": "python3"
  },
  "language_info": {
   "codemirror_mode": {
    "name": "ipython",
    "version": 3
   },
   "file_extension": ".py",
   "mimetype": "text/x-python",
   "name": "python",
   "nbconvert_exporter": "python",
   "pygments_lexer": "ipython3",
   "version": "3.10.15"
  }
 },
 "nbformat": 4,
 "nbformat_minor": 2
}
