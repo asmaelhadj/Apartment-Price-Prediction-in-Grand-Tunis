{
 "cells": [
  {
   "cell_type": "code",
   "execution_count": 2,
   "metadata": {},
   "outputs": [],
   "source": [
    "import pandas as pd\n",
    "import numpy as np\n",
    "import matplotlib.pyplot as plt\n",
    "from sklearn.impute import KNNImputer\n",
    "from sklearn.preprocessing import OrdinalEncoder\n",
    "from sklearn.preprocessing import StandardScaler\n",
    "from sklearn.preprocessing import OneHotEncoder\n"
   ]
  },
  {
   "cell_type": "markdown",
   "metadata": {},
   "source": [
    "**export data**"
   ]
  },
  {
   "cell_type": "code",
   "execution_count": 5,
   "metadata": {},
   "outputs": [
    {
     "name": "stdout",
     "output_type": "stream",
     "text": [
      "       prix    delegation gouvernorat  chambres  salle_de_bains  nb_pieces  \\\n",
      "0  175000.0        Ennasr      Ariana         1             1.0        2.0   \n",
      "1  270000.0       Ghazela      Ariana         2             1.0        3.0   \n",
      "2  390000.0  Ariana Ville      Ariana         4             2.0        5.0   \n",
      "3  400000.0  Ariana Ville      Ariana         3             1.0        3.0   \n",
      "4  345000.0     La Soukra      Ariana         3             2.0        5.0   \n",
      "\n",
      "   superficie  etage  \n",
      "0        65.0      1  \n",
      "1       100.0      3  \n",
      "2       140.0      5  \n",
      "3       124.0      1  \n",
      "4       140.0      2  \n"
     ]
    }
   ],
   "source": [
    "df=pd.read_csv('../csv/apartments_db.menzili.csv')\n",
    "print(df.head())"
   ]
  },
  {
   "cell_type": "markdown",
   "metadata": {},
   "source": [
    "**Data description & first peak visualizations**"
   ]
  },
  {
   "cell_type": "code",
   "execution_count": 6,
   "metadata": {},
   "outputs": [
    {
     "name": "stdout",
     "output_type": "stream",
     "text": [
      "<class 'pandas.core.frame.DataFrame'>\n",
      "RangeIndex: 1957 entries, 0 to 1956\n",
      "Data columns (total 8 columns):\n",
      " #   Column          Non-Null Count  Dtype  \n",
      "---  ------          --------------  -----  \n",
      " 0   prix            1957 non-null   float64\n",
      " 1   delegation      1957 non-null   object \n",
      " 2   gouvernorat     1957 non-null   object \n",
      " 3   chambres        1957 non-null   int64  \n",
      " 4   salle_de_bains  1957 non-null   float64\n",
      " 5   nb_pieces       1957 non-null   float64\n",
      " 6   superficie      1957 non-null   float64\n",
      " 7   etage           1957 non-null   int64  \n",
      "dtypes: float64(4), int64(2), object(2)\n",
      "memory usage: 122.4+ KB\n"
     ]
    }
   ],
   "source": [
    "df.info()"
   ]
  },
  {
   "cell_type": "markdown",
   "metadata": {},
   "source": [
    "**number & percentage of missing values according to columns**"
   ]
  },
  {
   "cell_type": "code",
   "execution_count": 7,
   "metadata": {},
   "outputs": [
    {
     "data": {
      "text/plain": [
       "{}"
      ]
     },
     "execution_count": 7,
     "metadata": {},
     "output_type": "execute_result"
    }
   ],
   "source": [
    "{col: [df[col].isnull().sum(), f'% {np.round(np.mean(df[col].isnull()*100), 3)}'\n",
    "      ] for col in df.columns if df[col].isnull().any()}"
   ]
  },
  {
   "cell_type": "markdown",
   "metadata": {},
   "source": [
    "# Clean delegation column"
   ]
  },
  {
   "cell_type": "markdown",
   "metadata": {},
   "source": [
    "**Tunis**"
   ]
  },
  {
   "cell_type": "code",
   "execution_count": 26,
   "metadata": {},
   "outputs": [
    {
     "name": "stdout",
     "output_type": "stream",
     "text": [
      "['La Marsa' 'Cite El Khadra' 'Cité Olympique' 'Centre Ville - Lafayette'\n",
      " 'Aïn Zaghouan' 'El Ouardia' 'Centre Urbain Nord' 'Kram' 'Aouina'\n",
      " 'Sidi El Béchir' 'Les Berges Du Lac' 'Mutuelleville' 'Le Bardo'\n",
      " 'Sidi Daoud' 'Ezzouhour' 'Médina' 'El Omrane' 'La Goulette' 'Ettahrir'\n",
      " 'Gammarth' 'Agba' 'Sidi Hassine' 'Hraïria' 'Djebel Jelloud'\n",
      " 'Sidi Bou Said']\n",
      "25\n"
     ]
    }
   ],
   "source": [
    "data_tunis=df[df.gouvernorat == 'Tunis']\n",
    "print(data_tunis.delegation.unique())\n",
    "print(len(data_tunis.delegation.unique()))"
   ]
  },
  {
   "cell_type": "markdown",
   "metadata": {},
   "source": [
    "**replacing with standard names across all dataset**"
   ]
  },
  {
   "cell_type": "code",
   "execution_count": 40,
   "metadata": {},
   "outputs": [],
   "source": [
    "replacements = {\n",
    "    'bab bhar': 'Bab Bhar',\n",
    "    'bab el khadra': 'Bab El Khadra',\n",
    "    'saadoun': 'Bab Saadoun',\n",
    "    'bab souika': 'Bab Souika',\n",
    "    'kram': 'Kram',\n",
    "    'carthage': 'Kram',\n",
    "    'cite el khadra': 'Cite El Khadra',\n",
    "    'Cité Olympique': 'Cite Olympique',\n",
    "    'lac': 'Les Berges Du Lac',\n",
    "    'manar': 'El Manar',\n",
    "    'menzah 1': 'El Menzah 1',\n",
    "    'menzah 4': 'El Menzah 4',\n",
    "    'menzah 9': 'El Menzah 9',\n",
    "    'menzah': 'El Menzah 1',\n",
    "    'omrane': 'El Omrane',\n",
    "    'ouardia': 'El Ouardia',\n",
    "    'ettahrir': 'Ettahrir',\n",
    "    'hrairia': 'Hrairia',\n",
    "    'hraïria': 'Hrairia',\n",
    "    'goulette': 'La Goulette',\n",
    "    'ain zaghouan': 'Ain Zaghouan',\n",
    "    'aouina': 'Aouina',\n",
    "    'gammarth': 'Gammarth',\n",
    "    'marsa': 'La Marsa',\n",
    "    'bardo' : 'Le Bardo',\n",
    "    'montplaisir': 'Montplaisir',\n",
    "    'sidi hassine': 'Sidi Hassine',\n",
    "    'montfleury': 'Montfleury',\n",
    "    'tunis': 'El Ouardia',\n",
    "    'centre ville - lafayette': 'Centre Ville',\n",
    "    'medina': 'Centre Ville',\n",
    "    'sidi el bechir': 'Sidi El Bechir',\n",
    "}\n",
    "\n",
    "# Convert to lowercase, replace substrings, and map to replacement values\n",
    "def replace_delegation(delegation):\n",
    "    if delegation is np.nan:\n",
    "        delegation= 'marsa'\n",
    "    delegation_lower = delegation.lower().replace('é', 'e')\n",
    "    \n",
    "    for substring, replacement in replacements.items():\n",
    "        if substring in delegation_lower:\n",
    "            return replacement\n",
    "    return delegation  \n",
    "\n",
    "df['delegation'] = df['delegation'].apply(replace_delegation)"
   ]
  },
  {
   "cell_type": "code",
   "execution_count": null,
   "metadata": {},
   "outputs": [
    {
     "name": "stdout",
     "output_type": "stream",
     "text": [
      "['Ariana Ville' 'Cite El Khadra' 'Cité Olympique' 'Centre Ville'\n",
      " 'Aïn Zaghouan' 'El Ouardia' 'Centre Urbain Nord' 'Aouina'\n",
      " 'Sidi El Bechir' 'Les Berges Du Lac' 'Mutuelleville' 'Le Bardo'\n",
      " 'Sidi Daoud' 'Ezzouhour' 'El Omrane' 'La Goulette' 'Ettahrir' 'Gammarth'\n",
      " 'Agba' 'Sidi Hassine' 'Hrairia' 'Djebel Jelloud' 'Sidi Bou Said']\n",
      "23\n"
     ]
    }
   ],
   "source": [
    "data_tunis=df[df.gouvernorat == 'Tunis'] #tunis\n",
    "print(data_tunis.delegation.unique())\n",
    "print(len(data_tunis.delegation.unique()))"
   ]
  },
  {
   "cell_type": "markdown",
   "metadata": {},
   "source": [
    "**Ariana**"
   ]
  },
  {
   "cell_type": "code",
   "execution_count": null,
   "metadata": {},
   "outputs": [
    {
     "name": "stdout",
     "output_type": "stream",
     "text": [
      "['Cite Ennasr' 'Cite El Ghazela' 'Ariana Ville' 'La Soukra' 'El Menzah 1'\n",
      " 'Raoued' 'Borj Louzir' 'El Manar' 'Chotrana' 'Kalaât El Andalous'\n",
      " 'Ettadhamen']\n",
      "11\n"
     ]
    }
   ],
   "source": [
    "data_ariana=df[df.gouvernorat == 'Ariana'] #ariana\n",
    "print(data_ariana.delegation.unique())\n",
    "print(len(data_ariana.delegation.unique()))"
   ]
  },
  {
   "cell_type": "code",
   "execution_count": 29,
   "metadata": {},
   "outputs": [],
   "source": [
    "replacements = {\n",
    "    'soukra': 'La Soukra',\n",
    "    'ghazela': 'Cite El Ghazela',\n",
    "    'ennasr': 'Cite Ennasr',\n",
    "    'Ennasr': 'Cite Ennasr',\n",
    "    'raoued': 'Raoued',\n",
    "    'kalaat landalous': 'Kalaat Landalous',\n",
    "    'sidi thabet': 'Ariana Ville',\n",
    "    'mnihla': 'Ariana Ville',\n",
    "    'menzah 6': 'El Menzah 6',\n",
    "    'menzah 7': 'El Menzah 7',\n",
    "    'menzah 5': 'El Menzah 5',\n",
    "    'menzah 8': 'El Menzah 8',\n",
    "    'menzah': 'El Menzah 7',\n",
    "    'kram': 'Ariana Ville',\n",
    "    'marsa': 'Ariana Ville',\n",
    "    'ariana': 'Ariana Ville'\n",
    "\n",
    "}\n",
    "\n",
    "\n",
    "# Convert to lowercase, replace substrings, and map to replacement values\n",
    "def replace_delegation(delegation):\n",
    "    if delegation is np.nan:\n",
    "        delegation= 'marsa'\n",
    "    delegation_lower = delegation.lower().replace('é', 'e')\n",
    "    \n",
    "    for substring, replacement in replacements.items():\n",
    "        if substring in delegation_lower:\n",
    "            return replacement\n",
    "    return delegation \n",
    "\n",
    "df['delegation'] = df['delegation'].apply(replace_delegation)\n"
   ]
  },
  {
   "cell_type": "code",
   "execution_count": 30,
   "metadata": {},
   "outputs": [
    {
     "name": "stdout",
     "output_type": "stream",
     "text": [
      "['Cite Ennasr' 'Cite El Ghazela' 'Ariana Ville' 'La Soukra' 'El Menzah 7'\n",
      " 'Raoued' 'Borj Louzir' 'El Manar' 'Chotrana' 'Kalaât El Andalous'\n",
      " 'Ettadhamen']\n",
      "11\n"
     ]
    }
   ],
   "source": [
    "data_ariana=df[df.gouvernorat == 'Ariana']\n",
    "print(data_ariana.delegation.unique())\n",
    "print(len(data_ariana.delegation.unique()))"
   ]
  },
  {
   "cell_type": "markdown",
   "metadata": {},
   "source": [
    "**Ben arouss**"
   ]
  },
  {
   "cell_type": "code",
   "execution_count": null,
   "metadata": {},
   "outputs": [
    {
     "name": "stdout",
     "output_type": "stream",
     "text": [
      "['Ezzahra' 'Centre Ville' 'Mohamedia' 'Borj Cedria' 'Radès' 'Hammam Chott'\n",
      " 'El Mourouj' 'Fouchana' 'Hammam Lif' 'Mégrine' 'Mornag' 'Boumhel']\n",
      "12\n"
     ]
    }
   ],
   "source": [
    "df_benarous=df[df.gouvernorat == 'Ben Arous'] #ben-arous\n",
    "\n",
    "print(df_benarous.delegation.unique())\n",
    "print(len(df_benarous.delegation.unique()))"
   ]
  },
  {
   "cell_type": "code",
   "execution_count": 44,
   "metadata": {},
   "outputs": [],
   "source": [
    "replacements = {\n",
    "    'mourouj': 'El Mourouj',\n",
    "    'fouchana': 'Fouchana',\n",
    "    'boumhel': 'Boumhel',\n",
    "    'mornag': 'Mornag',\n",
    "    'rades': 'Rades',\n",
    "    'borj cedria': 'Borj Cedria',\n",
    "    'ezzahra': 'Ezzahra',\n",
    "    'hammam': 'Hammam Lif',\n",
    "    'mohamadia': 'Mohamadia',   \n",
    "    'ben arous': 'Ben Arous',\n",
    "    'medina': 'Ben Arous',\n",
    "    'megrine': 'Megrine',\n",
    "    'radès': 'Rades',\n",
    "    'centre ville': 'Ben Arous',\n",
    "    'mohamedia': 'Ben Arous'\n",
    "   }\n",
    "\n",
    "\n",
    "# Convert to lowercase, replace substrings, and map to replacement values\n",
    "def replace_delegation(delegation):\n",
    "    delegation_lower = delegation.lower().replace('é', 'e')\n",
    "    \n",
    "    for substring, replacement in replacements.items():\n",
    "        if substring in delegation_lower:\n",
    "            return replacement\n",
    "    return delegation  \n",
    "\n",
    "df['delegation'] = df['delegation'].apply(replace_delegation)\n"
   ]
  },
  {
   "cell_type": "code",
   "execution_count": 45,
   "metadata": {},
   "outputs": [
    {
     "name": "stdout",
     "output_type": "stream",
     "text": [
      "['Ezzahra' 'Ben Arous' 'Borj Cedria' 'Rades' 'Hammam Lif' 'El Mourouj'\n",
      " 'Fouchana' 'Megrine' 'Mornag' 'Boumhel']\n",
      "10\n"
     ]
    }
   ],
   "source": [
    "df_benarous=df[df.gouvernorat == 'Ben Arous']\n",
    "print(df_benarous.delegation.unique())\n",
    "print(len(df_benarous.delegation.unique()))"
   ]
  },
  {
   "cell_type": "markdown",
   "metadata": {},
   "source": [
    "**Manouba**"
   ]
  },
  {
   "cell_type": "code",
   "execution_count": 46,
   "metadata": {},
   "outputs": [
    {
     "name": "stdout",
     "output_type": "stream",
     "text": [
      "[]\n",
      "0\n"
     ]
    }
   ],
   "source": [
    "df_manouba=df[df.gouvernorat == 'la-manouba']\n",
    "print(df_manouba.delegation.unique())\n",
    "print(len(df_manouba.delegation.unique()))"
   ]
  },
  {
   "cell_type": "code",
   "execution_count": 54,
   "metadata": {},
   "outputs": [],
   "source": [
    "# 'tunis', 'ariana', 'ben-arous', 'la-manouba'\n",
    "df['gouvernorat'] = df['gouvernorat'].replace('Tunis', 'tunis')\n",
    "df['gouvernorat'] = df['gouvernorat'].replace('Ariana', 'ariana')\n",
    "df['gouvernorat'] = df['gouvernorat'].replace('Ben Arous', 'ben-arous')"
   ]
  },
  {
   "cell_type": "code",
   "execution_count": 55,
   "metadata": {},
   "outputs": [
    {
     "data": {
      "text/plain": [
       "array(['ariana', 'tunis', 'ben-arous'], dtype=object)"
      ]
     },
     "execution_count": 55,
     "metadata": {},
     "output_type": "execute_result"
    }
   ],
   "source": [
    "df['gouvernorat'].unique()"
   ]
  },
  {
   "cell_type": "markdown",
   "metadata": {},
   "source": [
    "**save current progress**"
   ]
  },
  {
   "cell_type": "code",
   "execution_count": 56,
   "metadata": {},
   "outputs": [],
   "source": [
    "df.to_csv('../csv/after_cleaning/menzili_preprocessed.csv', index=False)"
   ]
  },
  {
   "cell_type": "markdown",
   "metadata": {},
   "source": [
    "# Clean superficie column"
   ]
  },
  {
   "cell_type": "code",
   "execution_count": 57,
   "metadata": {},
   "outputs": [
    {
     "name": "stdout",
     "output_type": "stream",
     "text": [
      "count      1957.000000\n",
      "mean        178.262040\n",
      "std        2485.507391\n",
      "min           1.000000\n",
      "25%          84.000000\n",
      "50%         110.000000\n",
      "75%         140.000000\n",
      "max      110000.000000\n",
      "Name: superficie, dtype: float64\n"
     ]
    }
   ],
   "source": [
    "print(df.superficie.describe())"
   ]
  },
  {
   "cell_type": "code",
   "execution_count": 58,
   "metadata": {},
   "outputs": [
    {
     "data": {
      "image/png": "[encoded data removed]",
      "text/plain": [
       "<Figure size 1000x600 with 1 Axes>"
      ]
     },
     "metadata": {},
     "output_type": "display_data"
    }
   ],
   "source": [
    "\n",
    "data = df['superficie'] \n",
    "bins = np.logspace(np.log10(data.min()), np.log10(data.max()), 50)\n",
    "\n",
    "plt.figure(figsize=(10, 6))\n",
    "plt.hist(data, bins=bins, edgecolor='k', alpha=0.7)\n",
    "plt.xscale('log')\n",
    "plt.xlabel('Superficie (log scale)')\n",
    "plt.ylabel('Frequency')\n",
    "plt.title('Histogram of Superficie')\n",
    "plt.show()\n"
   ]
  },
  {
   "cell_type": "markdown",
   "metadata": {},
   "source": [
    "**handling noise & outliers**\n",
    "\n",
    "-> DECISION: min superficie 30 m²  max is 300 m²"
   ]
  },
  {
   "cell_type": "markdown",
   "metadata": {},
   "source": [
    "**count outliers and handle outliers**"
   ]
  },
  {
   "cell_type": "code",
   "execution_count": 59,
   "metadata": {},
   "outputs": [
    {
     "name": "stdout",
     "output_type": "stream",
     "text": [
      "42\n"
     ]
    }
   ],
   "source": [
    "count = 0  \n",
    "\n",
    "def round_up(value):\n",
    "    global count  \n",
    "    if value < 30:\n",
    "        count += 1\n",
    "        return 30\n",
    "    elif value > 300:\n",
    "        count += 1\n",
    "        return 300\n",
    "    return value \n",
    "\n",
    "df['superficie'] = df['superficie'].apply(round_up)\n",
    "\n",
    "print(count)\n"
   ]
  },
  {
   "cell_type": "code",
   "execution_count": 60,
   "metadata": {},
   "outputs": [
    {
     "name": "stdout",
     "output_type": "stream",
     "text": [
      "count    1957.000000\n",
      "mean      118.328468\n",
      "std        50.123812\n",
      "min        30.000000\n",
      "25%        84.000000\n",
      "50%       110.000000\n",
      "75%       140.000000\n",
      "max       300.000000\n",
      "Name: superficie, dtype: float64\n"
     ]
    }
   ],
   "source": [
    "print(df.superficie.describe())"
   ]
  },
  {
   "cell_type": "markdown",
   "metadata": {},
   "source": [
    "**save current progress**"
   ]
  },
  {
   "cell_type": "code",
   "execution_count": 62,
   "metadata": {},
   "outputs": [],
   "source": [
    "df.to_csv('../csv/after_cleaning/menzili_preprocessed.csv', index=False)"
   ]
  },
  {
   "cell_type": "markdown",
   "metadata": {},
   "source": [
    "# Clean etage column"
   ]
  },
  {
   "cell_type": "code",
   "execution_count": 63,
   "metadata": {},
   "outputs": [
    {
     "name": "stdout",
     "output_type": "stream",
     "text": [
      "<class 'pandas.core.series.Series'>\n",
      "RangeIndex: 1957 entries, 0 to 1956\n",
      "Series name: etage\n",
      "Non-Null Count  Dtype\n",
      "--------------  -----\n",
      "1957 non-null   int64\n",
      "dtypes: int64(1)\n",
      "memory usage: 15.4 KB\n"
     ]
    }
   ],
   "source": [
    "df['etage'].info()"
   ]
  },
  {
   "cell_type": "markdown",
   "metadata": {},
   "source": [
    "# Clean salle de bain column"
   ]
  },
  {
   "cell_type": "code",
   "execution_count": 65,
   "metadata": {},
   "outputs": [
    {
     "name": "stdout",
     "output_type": "stream",
     "text": [
      "<class 'pandas.core.series.Series'>\n",
      "RangeIndex: 1957 entries, 0 to 1956\n",
      "Series name: salle_de_bains\n",
      "Non-Null Count  Dtype  \n",
      "--------------  -----  \n",
      "1957 non-null   float64\n",
      "dtypes: float64(1)\n",
      "memory usage: 15.4 KB\n"
     ]
    }
   ],
   "source": [
    "df['salle_de_bains'].info()"
   ]
  },
  {
   "cell_type": "code",
   "execution_count": 66,
   "metadata": {},
   "outputs": [
    {
     "name": "stdout",
     "output_type": "stream",
     "text": [
      "0    1\n",
      "1    1\n",
      "2    2\n",
      "3    1\n",
      "4    2\n",
      "Name: salle_de_bains, dtype: Int64\n"
     ]
    }
   ],
   "source": [
    "df['salle_de_bains'] = df['salle_de_bains'].astype('Int64')  # Convert to integer while allowing NaN\n",
    "\n",
    "print(df['salle_de_bains'].head())\n"
   ]
  },
  {
   "cell_type": "markdown",
   "metadata": {},
   "source": [
    "**handle missing value: if missing we can assume only 1 salle de bain**"
   ]
  },
  {
   "cell_type": "code",
   "execution_count": 67,
   "metadata": {},
   "outputs": [],
   "source": [
    "df['salle_de_bains'] = df['salle_de_bains'].fillna(1)"
   ]
  },
  {
   "cell_type": "markdown",
   "metadata": {},
   "source": [
    "**save current progress**"
   ]
  },
  {
   "cell_type": "code",
   "execution_count": 68,
   "metadata": {},
   "outputs": [],
   "source": [
    "df.to_csv('../csv/after_cleaning/menzili_preprocessed.csv', index=False)"
   ]
  },
  {
   "cell_type": "markdown",
   "metadata": {},
   "source": [
    "# Clean chambre column"
   ]
  },
  {
   "cell_type": "code",
   "execution_count": 69,
   "metadata": {},
   "outputs": [
    {
     "name": "stdout",
     "output_type": "stream",
     "text": [
      "<class 'pandas.core.series.Series'>\n",
      "RangeIndex: 1957 entries, 0 to 1956\n",
      "Series name: chambres\n",
      "Non-Null Count  Dtype\n",
      "--------------  -----\n",
      "1957 non-null   int64\n",
      "dtypes: int64(1)\n",
      "memory usage: 15.4 KB\n"
     ]
    }
   ],
   "source": [
    "df['chambres'].info()"
   ]
  },
  {
   "cell_type": "markdown",
   "metadata": {},
   "source": [
    "# Clean price values"
   ]
  },
  {
   "cell_type": "code",
   "execution_count": 70,
   "metadata": {},
   "outputs": [
    {
     "name": "stdout",
     "output_type": "stream",
     "text": [
      "count    1.957000e+03\n",
      "mean     3.025421e+05\n",
      "std      2.883656e+05\n",
      "min      3.000000e+04\n",
      "25%      1.600000e+05\n",
      "50%      2.350000e+05\n",
      "75%      3.500000e+05\n",
      "max      4.990000e+06\n",
      "Name: prix, dtype: float64\n"
     ]
    }
   ],
   "source": [
    "print(df.prix.describe())"
   ]
  },
  {
   "cell_type": "code",
   "execution_count": 71,
   "metadata": {},
   "outputs": [
    {
     "name": "stdout",
     "output_type": "stream",
     "text": [
      "48\n"
     ]
    }
   ],
   "source": [
    "count = (df['prix'] >900000).sum() \n",
    "print(count)"
   ]
  },
  {
   "cell_type": "code",
   "execution_count": 72,
   "metadata": {},
   "outputs": [
    {
     "name": "stdout",
     "output_type": "stream",
     "text": [
      "110\n"
     ]
    }
   ],
   "source": [
    "count = (df['prix'] <100000).sum() \n",
    "print(count)\n",
    "\n",
    "# print(df[df['prix'] < 100000])\n",
    "# df[df['prix'] < 100000].to_csv('../csv/after_cleaning/out.csv', index=False)"
   ]
  },
  {
   "cell_type": "code",
   "execution_count": 73,
   "metadata": {},
   "outputs": [],
   "source": [
    "df.iloc[(df['prix'] <100000).values, df.columns.get_loc('prix')] = 100000"
   ]
  },
  {
   "cell_type": "code",
   "execution_count": 74,
   "metadata": {},
   "outputs": [
    {
     "data": {
      "text/plain": [
       "0"
      ]
     },
     "execution_count": 74,
     "metadata": {},
     "output_type": "execute_result"
    }
   ],
   "source": [
    "df['prix'].isna().sum()"
   ]
  },
  {
   "cell_type": "code",
   "execution_count": 75,
   "metadata": {},
   "outputs": [],
   "source": [
    "df.to_csv('../csv/after_cleaning/menzili_preprocessed.csv', index=False)"
   ]
  },
  {
   "cell_type": "markdown",
   "metadata": {},
   "source": [
    "# One hot encoding for gouvernorat"
   ]
  },
  {
   "cell_type": "code",
   "execution_count": 75,
   "metadata": {},
   "outputs": [],
   "source": [
    "# One-hot encoding\n",
    "encoder = OneHotEncoder(sparse_output=False)\n",
    "one_hot_encoded = encoder.fit_transform(df[['gouvernorat']])\n",
    "one_hot_df = pd.DataFrame(one_hot_encoded, columns=encoder.get_feature_names_out(['gouvernorat']))\n",
    "\n",
    "# Align indices before concatenating\n",
    "one_hot_df.index = df.index\n",
    "\n",
    "# Concatenate and drop the original column\n",
    "df_encoded = pd.concat([df, one_hot_df], axis=1)\n",
    "df = df_encoded.drop('gouvernorat', axis=1)"
   ]
  },
  {
   "cell_type": "code",
   "execution_count": null,
   "metadata": {},
   "outputs": [],
   "source": [
    "df.to_csv('../csv/after_cleaning/menzili_preprocessed.csv', index=False)"
   ]
  },
  {
   "cell_type": "markdown",
   "metadata": {},
   "source": [
    "**make price last column**"
   ]
  },
  {
   "cell_type": "code",
   "execution_count": 76,
   "metadata": {},
   "outputs": [],
   "source": [
    "# Reorder columns to make 'prix' the last column\n",
    "cols = [col for col in df.columns if col != 'prix'] + ['prix']\n",
    "df = df[cols]\n",
    "\n",
    "df.to_csv('../csv/after_cleaning/menzili_preprocessed.csv', index=False)"
   ]
  },
  {
   "cell_type": "markdown",
   "metadata": {},
   "source": []
  }
 ],
 "metadata": {
  "kernelspec": {
   "display_name": "venv",
   "language": "python",
   "name": "python3"
  },
  "language_info": {
   "codemirror_mode": {
    "name": "ipython",
    "version": 3
   },
   "file_extension": ".py",
   "mimetype": "text/x-python",
   "name": "python",
   "nbconvert_exporter": "python",
   "pygments_lexer": "ipython3",
   "version": "3.10.15"
  }
 },
 "nbformat": 4,
 "nbformat_minor": 2
}
