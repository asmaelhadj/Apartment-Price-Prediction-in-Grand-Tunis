{
 "cells": [
  {
   "cell_type": "code",
   "execution_count": 92,
   "metadata": {},
   "outputs": [],
   "source": [
    "import pandas as pd\n",
    "import numpy as np\n",
    "import matplotlib.pyplot as plt\n",
    "from sklearn.impute import KNNImputer\n",
    "from sklearn.preprocessing import OrdinalEncoder\n",
    "from sklearn.preprocessing import StandardScaler\n",
    "from sklearn.preprocessing import OneHotEncoder\n"
   ]
  },
  {
   "cell_type": "markdown",
   "metadata": {},
   "source": [
    "**export data**"
   ]
  },
  {
   "cell_type": "code",
   "execution_count": 93,
   "metadata": {},
   "outputs": [
    {
     "name": "stdout",
     "output_type": "stream",
     "text": [
      "                                                 _id gouvernorat  \\\n",
      "0  9640d5dccdfd9b5c4a45e8406c32751838aca9029d66f8...       tunis   \n",
      "1  8ae77a6b1c36d45ddb78aa7dd34d9cd3a21a89073927ac...       tunis   \n",
      "2  723d5c50c2ea07db6a21f6805449bab0acccdeb280ef71...       tunis   \n",
      "3  6e7883ddcf44a125dd34f600fe664891b7b1c75d953d92...       tunis   \n",
      "4  47643d27c8e43aae55bd07969263224dc09b417bc37030...       tunis   \n",
      "\n",
      "                          delegation      prix  superficie  nb_pieces  \\\n",
      "0  Les Jardins de Carthage à Le Kram       NaN         125        3.0   \n",
      "1  Les Jardins de Carthage à Le Kram       NaN         181        4.0   \n",
      "2  Les Jardins de Carthage à Le Kram       NaN          65        2.0   \n",
      "3                  Aouina à La Marsa  340000.0          88        3.0   \n",
      "4       Ain Zaghouan Nord à La Marsa       NaN         121        3.0   \n",
      "\n",
      "   chambres  salle_de_bains           etat etage       standing  \\\n",
      "0       2.0             2.0  Moins d'un an  2ème  Haut standing   \n",
      "1       3.0             2.0  Moins d'un an   NaN  Haut standing   \n",
      "2       1.0             1.0        Nouveau   NaN  Haut standing   \n",
      "3       2.0             1.0  Moins d'un an   NaN  Haut standing   \n",
      "4       2.0             2.0  Moins d'un an  2ème  Haut standing   \n",
      "\n",
      "                                         description  \n",
      "0  Découvrez ce somptueux S+2 de 125,34 m² situé ...  \n",
      "1  Bienvenue à la résidence Le Palais, où le luxe...  \n",
      "2  Bienvenue à la résidence Le Palais, où le luxe...  \n",
      "3  Bienvenue à Iris City, notre résidence excepti...  \n",
      "4  Découvrez ce superbe S+2 de 121 m² situé au 2è...  \n"
     ]
    }
   ],
   "source": [
    "df=pd.read_csv('../csv/apartments_db.mubawab.csv')\n",
    "print(df.head())"
   ]
  },
  {
   "cell_type": "markdown",
   "metadata": {},
   "source": [
    "**drop unnecessary scraped data**"
   ]
  },
  {
   "cell_type": "code",
   "execution_count": 94,
   "metadata": {},
   "outputs": [],
   "source": [
    "df.drop(columns=['_id', 'standing', 'description'], inplace=True)"
   ]
  },
  {
   "cell_type": "code",
   "execution_count": 95,
   "metadata": {},
   "outputs": [
    {
     "name": "stdout",
     "output_type": "stream",
     "text": [
      "  gouvernorat                         delegation      prix  superficie  \\\n",
      "0       tunis  Les Jardins de Carthage à Le Kram       NaN         125   \n",
      "1       tunis  Les Jardins de Carthage à Le Kram       NaN         181   \n",
      "2       tunis  Les Jardins de Carthage à Le Kram       NaN          65   \n",
      "3       tunis                  Aouina à La Marsa  340000.0          88   \n",
      "4       tunis       Ain Zaghouan Nord à La Marsa       NaN         121   \n",
      "\n",
      "   nb_pieces  chambres  salle_de_bains           etat etage  \n",
      "0        3.0       2.0             2.0  Moins d'un an  2ème  \n",
      "1        4.0       3.0             2.0  Moins d'un an   NaN  \n",
      "2        2.0       1.0             1.0        Nouveau   NaN  \n",
      "3        3.0       2.0             1.0  Moins d'un an   NaN  \n",
      "4        3.0       2.0             2.0  Moins d'un an  2ème  \n"
     ]
    }
   ],
   "source": [
    "print(df.head())"
   ]
  },
  {
   "cell_type": "markdown",
   "metadata": {},
   "source": [
    "**Data description & first peak visualizations**"
   ]
  },
  {
   "cell_type": "code",
   "execution_count": 96,
   "metadata": {},
   "outputs": [
    {
     "name": "stdout",
     "output_type": "stream",
     "text": [
      "<class 'pandas.core.frame.DataFrame'>\n",
      "RangeIndex: 2637 entries, 0 to 2636\n",
      "Data columns (total 9 columns):\n",
      " #   Column          Non-Null Count  Dtype  \n",
      "---  ------          --------------  -----  \n",
      " 0   gouvernorat     2637 non-null   object \n",
      " 1   delegation      2637 non-null   object \n",
      " 2   prix            2044 non-null   float64\n",
      " 3   superficie      2637 non-null   int64  \n",
      " 4   nb_pieces       2466 non-null   float64\n",
      " 5   chambres        2370 non-null   float64\n",
      " 6   salle_de_bains  2239 non-null   float64\n",
      " 7   etat            2332 non-null   object \n",
      " 8   etage           964 non-null    object \n",
      "dtypes: float64(4), int64(1), object(4)\n",
      "memory usage: 185.5+ KB\n"
     ]
    }
   ],
   "source": [
    "df.info()"
   ]
  },
  {
   "cell_type": "markdown",
   "metadata": {},
   "source": [
    "**number & percentage of missing values according to columns**"
   ]
  },
  {
   "cell_type": "code",
   "execution_count": 97,
   "metadata": {},
   "outputs": [
    {
     "data": {
      "text/plain": [
       "{'prix': [593, '% 22.488'],\n",
       " 'nb_pieces': [171, '% 6.485'],\n",
       " 'chambres': [267, '% 10.125'],\n",
       " 'salle_de_bains': [398, '% 15.093'],\n",
       " 'etat': [305, '% 11.566'],\n",
       " 'etage': [1673, '% 63.443']}"
      ]
     },
     "execution_count": 97,
     "metadata": {},
     "output_type": "execute_result"
    }
   ],
   "source": [
    "{col: [df[col].isnull().sum(), f'% {np.round(np.mean(df[col].isnull()*100), 3)}'\n",
    "      ] for col in df.columns if df[col].isnull().any()}"
   ]
  },
  {
   "cell_type": "markdown",
   "metadata": {},
   "source": [
    "# Clean delegation column"
   ]
  },
  {
   "cell_type": "markdown",
   "metadata": {},
   "source": [
    "**Tunis**"
   ]
  },
  {
   "cell_type": "code",
   "execution_count": 98,
   "metadata": {},
   "outputs": [
    {
     "name": "stdout",
     "output_type": "stream",
     "text": [
      "['Les Jardins de Carthage à Le Kram' 'Aouina à La Marsa'\n",
      " 'Ain Zaghouan Nord à La Marsa' 'Tunis' 'La Marsa'\n",
      " 'El Manar 2 à El Menzah' 'Sidi Daoued à La Marsa' 'Gammarth à La Marsa'\n",
      " 'Bhar Lazreg à La Marsa' 'La Marsa à La Marsa'\n",
      " 'Gammarth Supérieur à La Marsa' 'Le Bardo à Le Bardo'\n",
      " 'Mutuelle Ville à El Menzah' 'Carthage à Carthage'\n",
      " 'El Menzah 9 à El Menzah' 'Les Berges Du Lac 2 à La Marsa'\n",
      " 'Cité El Khalil à La Marsa' 'Centre Urbain Nord à Cité El Khadra'\n",
      " 'La Goulette Casino à La Goulette' 'Les Berges Du Lac 1 à La Marsa'\n",
      " 'Cité Olympique à Cité El Khadra' 'La Goulette à La Goulette'\n",
      " 'Bab Saadoun à Tunis' 'Bab Bhar à Tunis' 'Gammarth Village à La Marsa'\n",
      " 'Le Kram à Le Kram' 'El Omrane à El Omrane' 'El Hrairia à El Hrairia'\n",
      " 'Cité Ubn Khaldoun à El Omrane Superieur' 'Carthage Byrsa à Carthage'\n",
      " 'El Ouardia à El Ouardia' 'Ain Zaghouan Sud à La Marsa'\n",
      " 'Habib Thameur à Tunis' 'La Perle du Lac 1 à La Marsa'\n",
      " 'Sidi Bousaid à Carthage' 'El Manar 1 à El Menzah'\n",
      " 'Bellevue à El Ouardia' 'Bab Jazira à Tunis'\n",
      " 'Cité El Khadra à Cité El Khadra' 'Sidi Hassine à Sidi Hassine'\n",
      " 'Cité Du Stade à La Marsa' 'République à Tunis' 'Cité El Moez à La Marsa'\n",
      " 'Bab El Khadra à Tunis' 'Le Kram' 'Cité Erriadh à La Marsa' 'Le Bardo'\n",
      " 'Cité de la Steg à Carthage' 'Cité Les Pins à La Marsa' 'El Menzah'\n",
      " 'Birine à Sidi Hassine' 'El Menzah 1 à El Menzah' 'Montfleury à Tunis'\n",
      " 'Ksar Said à Le Bardo' 'El Manar 3 à El Menzah' 'El Yasmina à Carthage'\n",
      " 'CC à Tunis' 'Cité Jardins à Cité El Khadra'\n",
      " 'El Omrane Supérieur à El Omrane Superieur' 'Tunis Belvedere à El Menzah'\n",
      " 'Salambo à Carthage' 'Montplaisir à Tunis' 'Cité du Jardin à Ettahrir'\n",
      " 'Sijoumi' 'Hedi Chaker à Tunis' 'Debouzville à El Ouardia' 'La Goulette'\n",
      " 'Ettahrir à Ettahrir' 'Amilcar à Carthage' 'Zaouiet El Bakria à Tunis'\n",
      " 'Cité 25 Juillet à Sidi Hassine' 'Ezzahrouni à El Hrairia'\n",
      " 'Bouchoucha à Le Bardo' 'El Gourjani à Tunis' 'El Agba à Tunis'\n",
      " 'Bab El Akoues à Tunis' 'Kheireddine Pacha à Cité El Khadra'\n",
      " 'Khaznadar à Le Bardo' 'Abou El Kacem Chebbi à Tunis'\n",
      " 'Bab El Falla à Tunis' 'El Mourouj 6 à Tunis']\n",
      "81\n"
     ]
    }
   ],
   "source": [
    "data_tunis=df[df.gouvernorat == 'tunis']\n",
    "print(data_tunis.delegation.unique())\n",
    "print(len(data_tunis.delegation.unique()))"
   ]
  },
  {
   "cell_type": "markdown",
   "metadata": {},
   "source": [
    "**replacing with standard names across all dataset**"
   ]
  },
  {
   "cell_type": "code",
   "execution_count": 99,
   "metadata": {},
   "outputs": [],
   "source": [
    "replacements = {\n",
    "    'bab bhar': 'Bab Bhar',\n",
    "    'bab el khadra': 'Bab El Khadra',\n",
    "    'saadoun': 'Bab Saadoun',\n",
    "    'bab souika': 'Bab Souika',\n",
    "    'kram': 'Kram',\n",
    "    'carthage': 'Kram',\n",
    "    'cite el khadra': 'Cite El Khadra',\n",
    "    'lac': 'Les Berges Du Lac',\n",
    "    'manar': 'El Manar',\n",
    "    'menzah 1': 'El Menzah 1',\n",
    "    'menzah 4': 'El Menzah 4',\n",
    "    'menzah 9': 'El Menzah 9',\n",
    "    'menzah': 'El Menzah 1',\n",
    "    'omrane': 'El Omrane',\n",
    "    'ouardia': 'El Ouardia',\n",
    "    'ettahrir': 'Ettahrir',\n",
    "    'hrairia': 'Hrairia',\n",
    "    'goulette': 'La Goulette',\n",
    "    'ain zaghouan': 'Ain Zaghouan',\n",
    "    'aouina': 'Aouina',\n",
    "    'gammarth': 'Gammarth',\n",
    "    'marsa': 'La Marsa',\n",
    "    'bardo' : 'Le Bardo',\n",
    "    'montplaisir': 'Montplaisir',\n",
    "    'sidi hassine': 'Sidi Hassine',\n",
    "    'montfleury': 'Montfleury',\n",
    "    'tunis': 'El Ouardia',\n",
    "}\n",
    "\n",
    "# Convert to lowercase, replace substrings, and map to replacement values\n",
    "def replace_delegation(delegation):\n",
    "    if delegation is np.nan:\n",
    "        delegation= 'marsa'\n",
    "    delegation_lower = delegation.lower().replace('é', 'e')\n",
    "    \n",
    "    for substring, replacement in replacements.items():\n",
    "        if substring in delegation_lower:\n",
    "            return replacement\n",
    "    return delegation  \n",
    "\n",
    "df['delegation'] = df['delegation'].apply(replace_delegation)\n"
   ]
  },
  {
   "cell_type": "code",
   "execution_count": 100,
   "metadata": {},
   "outputs": [
    {
     "name": "stdout",
     "output_type": "stream",
     "text": [
      "['Kram' 'Aouina' 'Ain Zaghouan' 'El Ouardia' 'La Marsa' 'El Manar'\n",
      " 'Gammarth' 'Le Bardo' 'El Menzah 1' 'El Menzah 9' 'Les Berges Du Lac'\n",
      " 'Cite El Khadra' 'La Goulette' 'Bab Saadoun' 'Bab Bhar' 'El Omrane'\n",
      " 'Hrairia' 'Sidi Hassine' 'Bab El Khadra' 'Montfleury' 'Montplaisir'\n",
      " 'Ettahrir' 'Sijoumi']\n",
      "23\n"
     ]
    }
   ],
   "source": [
    "data_tunis=df[df.gouvernorat == 'tunis']\n",
    "print(data_tunis.delegation.unique())\n",
    "print(len(data_tunis.delegation.unique()))"
   ]
  },
  {
   "cell_type": "markdown",
   "metadata": {},
   "source": [
    "**Ariana**"
   ]
  },
  {
   "cell_type": "code",
   "execution_count": 101,
   "metadata": {},
   "outputs": [
    {
     "name": "stdout",
     "output_type": "stream",
     "text": [
      "['Borj Louzir à La Soukra' 'La Soukra à La Soukra' 'Ariana à Ariana Ville'\n",
      " 'Cité el Ghazela à Raoued' 'Cité Ennasr 2 à Ariana Ville'\n",
      " 'Cité Ennasr 1 à Ariana Ville' 'Chotrana 1 à La Soukra' 'La Soukra'\n",
      " 'El Menzah 1' 'Ariana Ville' 'Riadh al Andalous à Ariana Ville'\n",
      " 'Raoued à Raoued' 'Chotrana 3 à La Soukra' 'Chotrana 2 à La Soukra'\n",
      " 'Cité Ennkhilet à Raoued' 'Cité El Behi Ladghem à La Soukra'\n",
      " 'Mnihla à Mnihla' 'Sidi Frej à La Soukra'\n",
      " 'Cité Bir El Araies à Kalaat Landalous' 'Chorchef 2 à Sidi Thabet'\n",
      " 'Cité El Mourouj à Kalaat Landalous' 'Cité Ennour Jaafar à Raoued'\n",
      " 'Cité de la santé à La Soukra' 'Cité Touilia à La Soukra'\n",
      " 'Cité El Mansoura à La Soukra' 'Cité El Boustene 2 à La Soukra'\n",
      " 'Ariana Essoghra à Raoued' 'Cité des Roses à Ariana Ville'\n",
      " 'Cité Aeroport à Raoued' 'Cité Hedi Nouira à La Soukra' 'Kram'\n",
      " 'Pont de Bizerte à Kalaat Landalous' 'Dar Fadhal à La Soukra'\n",
      " 'Cité de la Sante à Ariana Ville' 'Ennasr à Ariana Ville'\n",
      " 'Borj Baccouche à Ariana Ville' 'Cité Ennasr à Raoued' 'Jaafar à Raoued'\n",
      " 'Cité Ennasr à Mnihla' 'Charguia 1 à La Soukra' 'Aouina'\n",
      " 'Cité Jaafar à Ariana Ville' 'Cité Elyes à La Soukra'\n",
      " 'Charguia 2 à La Soukra' 'Cité El Boustene 1 à La Soukra'\n",
      " 'Cité des Juges à Raoued' 'Cité de la Republique à Mnihla'\n",
      " 'Cité Essaada à Mnihla']\n",
      "48\n"
     ]
    }
   ],
   "source": [
    "data_ariana=df[df.gouvernorat == 'ariana']\n",
    "print(data_ariana.delegation.unique())\n",
    "print(len(data_ariana.delegation.unique()))"
   ]
  },
  {
   "cell_type": "code",
   "execution_count": 102,
   "metadata": {},
   "outputs": [],
   "source": [
    "replacements = {\n",
    "    'soukra': 'La Soukra',\n",
    "    'ghazela': 'Cite El Ghazela',\n",
    "    'ennasr': 'Cite Ennasr',\n",
    "    'raoued': 'Raoued',\n",
    "    'kalaat landalous': 'Kalaat Landalous',\n",
    "    'sidi thabet': 'Ariana Ville',\n",
    "    'mnihla': 'Ariana Ville',\n",
    "    'menzah 6': 'El Menzah 6',\n",
    "    'menzah 7': 'El Menzah 7',\n",
    "    'menzah 5': 'El Menzah 5',\n",
    "    'menzah 8': 'El Menzah 8',\n",
    "    'menzah': 'El Menzah 7',\n",
    "    'kram': 'Ariana Ville',\n",
    "    'marsa': 'Ariana Ville',\n",
    "    'ariana': 'Ariana Ville'\n",
    "\n",
    "}\n",
    "\n",
    "\n",
    "# Convert to lowercase, replace substrings, and map to replacement values\n",
    "def replace_delegation(delegation):\n",
    "    if delegation is np.nan:\n",
    "        delegation= 'marsa'\n",
    "    delegation_lower = delegation.lower().replace('é', 'e')\n",
    "    \n",
    "    for substring, replacement in replacements.items():\n",
    "        if substring in delegation_lower:\n",
    "            return replacement\n",
    "    return delegation \n",
    "\n",
    "df['delegation'] = df['delegation'].apply(replace_delegation)\n"
   ]
  },
  {
   "cell_type": "code",
   "execution_count": 103,
   "metadata": {},
   "outputs": [
    {
     "name": "stdout",
     "output_type": "stream",
     "text": [
      "['La Soukra' 'Ariana Ville' 'Cite El Ghazela' 'Cite Ennasr' 'El Menzah 7'\n",
      " 'Raoued' 'Kalaat Landalous' 'Aouina']\n",
      "8\n"
     ]
    }
   ],
   "source": [
    "data_ariana=df[df.gouvernorat == 'ariana']\n",
    "print(data_ariana.delegation.unique())\n",
    "print(len(data_ariana.delegation.unique()))"
   ]
  },
  {
   "cell_type": "markdown",
   "metadata": {},
   "source": [
    "**Ben arouss**"
   ]
  },
  {
   "cell_type": "code",
   "execution_count": 104,
   "metadata": {},
   "outputs": [
    {
     "name": "stdout",
     "output_type": "stream",
     "text": [
      "['Mourouj à El Kabaria' 'Fouchana à Fouchana' 'El Mourouj 6 à El Mourouj'\n",
      " 'Cité Bou Mhel à Boumhel Bassatine' 'Mornag à Mornag'\n",
      " 'Nouvelle Medina à Nouvelle Medina' 'Bou Mhel à Boumhel Bassatine'\n",
      " 'Rades Meliane à Rades' 'El Mourouj 3 à El Mourouj'\n",
      " 'Borj Cedria à Hammam Chatt' 'Cité El Amel 2 à Fouchana'\n",
      " 'El Mourouj 2 à El Mourouj' 'Ezzahra à Ezzahra'\n",
      " 'El Mourouj 1 à El Mourouj' 'Hammam Lif à Hammam Lif'\n",
      " 'Zone Industrielle El Meghira à Fouchana' 'Cité El Bochra à El Mourouj'\n",
      " 'El Mourouj 5 à El Mourouj' 'Cité Mohamed Ali à Rades'\n",
      " 'Cité Jardins à Mohamadia' 'Cité Ennacim 2 à Mohamadia'\n",
      " 'Ben Arous à Ben Arous' 'Cité Erraoudha à El Mourouj'\n",
      " 'Cité El Habib à Ezzahra' 'Ben Arous Sud à Ben Arous'\n",
      " 'El Mourouj 4 à El Mourouj' 'Boumhel Bassatine'\n",
      " 'Cité El Omri 2 à Mohamadia' 'Village Mediterranee à Rades' 'Rades'\n",
      " 'Cité Ennour à Rades' 'Cité Ennakhil 2 à Ezzahra' 'Radès à Rades'\n",
      " 'Meghira Inzel à Fouchana' 'El Yasminette à Nouvelle Medina'\n",
      " 'Cité Hedi Khfacha à Ezzahra' 'Rades Plage à Rades'\n",
      " 'Hammam Chatt à Hammam Chatt' 'Bir El Kassaa à El Mourouj' 'Ben Arous'\n",
      " 'Mégrine à Mégrine' 'Naassen à Fouchana' 'Cité Snit à Fouchana'\n",
      " 'Cité Panorama à Ezzahra' 'Cité El Mouna à Boumhel Bassatine'\n",
      " 'Cité El Wifak à Fouchana' 'Cité El Hidhab à Fouchana']\n",
      "47\n"
     ]
    }
   ],
   "source": [
    "df_benarous=df[df.gouvernorat == 'ben-arous']\n",
    "print(df_benarous.delegation.unique())\n",
    "print(len(df_benarous.delegation.unique()))"
   ]
  },
  {
   "cell_type": "code",
   "execution_count": 105,
   "metadata": {},
   "outputs": [],
   "source": [
    "replacements = {\n",
    "    'mourouj': 'El Mourouj',\n",
    "    'fouchana': 'Fouchana',\n",
    "    'boumhel': 'Boumhel',\n",
    "    'mornag': 'Mornag',\n",
    "    'rades': 'Rades',\n",
    "    'borj cedria': 'Borj Cedria',\n",
    "    'ezzahra': 'Ezzahra',\n",
    "    'hammam': 'Hammam Lif',\n",
    "    'mohamadia': 'Mohamadia',   \n",
    "    'ben arous': 'Ben Arous',\n",
    "    'medina': 'Ben Arous',\n",
    "    'megrine': 'Megrine',\n",
    "   }\n",
    "\n",
    "\n",
    "# Convert to lowercase, replace substrings, and map to replacement values\n",
    "def replace_delegation(delegation):\n",
    "    delegation_lower = delegation.lower().replace('é', 'e')\n",
    "    \n",
    "    for substring, replacement in replacements.items():\n",
    "        if substring in delegation_lower:\n",
    "            return replacement\n",
    "    return delegation  \n",
    "\n",
    "df['delegation'] = df['delegation'].apply(replace_delegation)\n"
   ]
  },
  {
   "cell_type": "code",
   "execution_count": 106,
   "metadata": {},
   "outputs": [
    {
     "name": "stdout",
     "output_type": "stream",
     "text": [
      "['El Mourouj' 'Fouchana' 'Boumhel' 'Mornag' 'Ben Arous' 'Rades'\n",
      " 'Borj Cedria' 'Ezzahra' 'Hammam Lif' 'Mohamadia' 'Megrine']\n",
      "11\n"
     ]
    }
   ],
   "source": [
    "df_benarous=df[df.gouvernorat == 'ben-arous']\n",
    "print(df_benarous.delegation.unique())\n",
    "print(len(df_benarous.delegation.unique()))"
   ]
  },
  {
   "cell_type": "markdown",
   "metadata": {},
   "source": [
    "**Manouba**"
   ]
  },
  {
   "cell_type": "code",
   "execution_count": 107,
   "metadata": {},
   "outputs": [
    {
     "name": "stdout",
     "output_type": "stream",
     "text": [
      "['La Manouba à La Manouba' 'Denden à La Manouba']\n",
      "2\n"
     ]
    }
   ],
   "source": [
    "df_manouba=df[df.gouvernorat == 'la-manouba']\n",
    "print(df_manouba.delegation.unique())\n",
    "print(len(df_manouba.delegation.unique()))"
   ]
  },
  {
   "cell_type": "code",
   "execution_count": 108,
   "metadata": {},
   "outputs": [],
   "source": [
    "df.loc[df['delegation'].str.contains('manouba', case=False), 'delegation'] = 'La Manouba'"
   ]
  },
  {
   "cell_type": "code",
   "execution_count": 109,
   "metadata": {},
   "outputs": [
    {
     "name": "stdout",
     "output_type": "stream",
     "text": [
      "['La Manouba']\n",
      "1\n"
     ]
    }
   ],
   "source": [
    "df_manouba=df[df.gouvernorat == 'la-manouba']\n",
    "print(df_manouba.delegation.unique())\n",
    "print(len(df_manouba.delegation.unique()))"
   ]
  },
  {
   "cell_type": "markdown",
   "metadata": {},
   "source": [
    "**save current progress**"
   ]
  },
  {
   "cell_type": "code",
   "execution_count": 110,
   "metadata": {},
   "outputs": [],
   "source": [
    "df.to_csv('../csv/after_cleaning/mubawab_preprocessed.csv', index=False)"
   ]
  },
  {
   "cell_type": "markdown",
   "metadata": {},
   "source": [
    "# Clean superficie column"
   ]
  },
  {
   "cell_type": "code",
   "execution_count": 111,
   "metadata": {},
   "outputs": [
    {
     "name": "stdout",
     "output_type": "stream",
     "text": [
      "count      2637.000000\n",
      "mean        210.760713\n",
      "std        2299.327998\n",
      "min           1.000000\n",
      "25%          97.000000\n",
      "50%         125.000000\n",
      "75%         164.000000\n",
      "max      110000.000000\n",
      "Name: superficie, dtype: float64\n"
     ]
    }
   ],
   "source": [
    "print(df.superficie.describe())"
   ]
  },
  {
   "cell_type": "code",
   "execution_count": 112,
   "metadata": {},
   "outputs": [
    {
     "data": {
      "image/png": "[encoded data removed]",
      "text/plain": [
       "<Figure size 1000x600 with 1 Axes>"
      ]
     },
     "metadata": {},
     "output_type": "display_data"
    }
   ],
   "source": [
    "\n",
    "data = df['superficie'] \n",
    "bins = np.logspace(np.log10(data.min()), np.log10(data.max()), 50)\n",
    "\n",
    "plt.figure(figsize=(10, 6))\n",
    "plt.hist(data, bins=bins, edgecolor='k', alpha=0.7)\n",
    "plt.xscale('log')\n",
    "plt.xlabel('Superficie (log scale)')\n",
    "plt.ylabel('Frequency')\n",
    "plt.title('Histogram of Superficie')\n",
    "plt.show()\n"
   ]
  },
  {
   "cell_type": "markdown",
   "metadata": {},
   "source": [
    "**handling noise & outliers**\n",
    "\n",
    "-> DECISION: min superficie 30 m²  max is 300 m²"
   ]
  },
  {
   "cell_type": "markdown",
   "metadata": {},
   "source": [
    "**count outliers and handle outliers**"
   ]
  },
  {
   "cell_type": "code",
   "execution_count": 113,
   "metadata": {},
   "outputs": [
    {
     "name": "stdout",
     "output_type": "stream",
     "text": [
      "119\n"
     ]
    }
   ],
   "source": [
    "count = 0  \n",
    "\n",
    "def round_up(value):\n",
    "    global count  \n",
    "    if value < 30:\n",
    "        count += 1\n",
    "        return 30\n",
    "    elif value > 300:\n",
    "        count += 1\n",
    "        return 300\n",
    "    return value \n",
    "\n",
    "df['superficie'] = df['superficie'].apply(round_up)\n",
    "\n",
    "print(count)\n"
   ]
  },
  {
   "cell_type": "code",
   "execution_count": 114,
   "metadata": {},
   "outputs": [
    {
     "name": "stdout",
     "output_type": "stream",
     "text": [
      "count    2637.000000\n",
      "mean      136.599545\n",
      "std        59.989646\n",
      "min        30.000000\n",
      "25%        97.000000\n",
      "50%       125.000000\n",
      "75%       164.000000\n",
      "max       300.000000\n",
      "Name: superficie, dtype: float64\n"
     ]
    }
   ],
   "source": [
    "print(df.superficie.describe())"
   ]
  },
  {
   "cell_type": "markdown",
   "metadata": {},
   "source": [
    "# Collective missing values"
   ]
  },
  {
   "cell_type": "markdown",
   "metadata": {},
   "source": [
    "**if a row has a missing value (we excluded etat & etage because they contain alot of missing values already) and also price missing : we drop**"
   ]
  },
  {
   "cell_type": "code",
   "execution_count": 115,
   "metadata": {},
   "outputs": [
    {
     "name": "stdout",
     "output_type": "stream",
     "text": [
      "     gouvernorat    delegation  prix  superficie  nb_pieces  chambres  \\\n",
      "5          tunis  Ain Zaghouan   NaN         148        3.0       NaN   \n",
      "142        tunis    El Ouardia   NaN          74        2.0       1.0   \n",
      "164        tunis      Gammarth   NaN         300        4.0       NaN   \n",
      "238        tunis  Ariana Ville   NaN          30        4.0       2.0   \n",
      "437        tunis  Ariana Ville   NaN         118        2.0       NaN   \n",
      "...          ...           ...   ...         ...        ...       ...   \n",
      "2593  la-manouba    La Manouba   NaN          57        1.0       1.0   \n",
      "2594  la-manouba    La Manouba   NaN         125        3.0       1.0   \n",
      "2598  la-manouba    La Manouba   NaN          68        1.0       1.0   \n",
      "2600  la-manouba    La Manouba   NaN         107        2.0       1.0   \n",
      "2601  la-manouba    La Manouba   NaN         101        3.0       1.0   \n",
      "\n",
      "      salle_de_bains  \n",
      "5                NaN  \n",
      "142              NaN  \n",
      "164              NaN  \n",
      "238              NaN  \n",
      "437              NaN  \n",
      "...              ...  \n",
      "2593             NaN  \n",
      "2594             NaN  \n",
      "2598             NaN  \n",
      "2600             NaN  \n",
      "2601             NaN  \n",
      "\n",
      "[77 rows x 7 columns]\n"
     ]
    }
   ],
   "source": [
    "df_copy= df.drop(columns=['etat', 'etage'])\n",
    "rows_with_nan = df_copy[(df_copy.isna().sum(axis=1) > 1) & (df_copy['prix'].isna())]\n",
    "\n",
    "print(rows_with_nan)"
   ]
  },
  {
   "cell_type": "code",
   "execution_count": 116,
   "metadata": {},
   "outputs": [],
   "source": [
    "df.drop(rows_with_nan.index, inplace=True)"
   ]
  },
  {
   "cell_type": "markdown",
   "metadata": {},
   "source": [
    "**save current progress**"
   ]
  },
  {
   "cell_type": "code",
   "execution_count": 117,
   "metadata": {},
   "outputs": [],
   "source": [
    "df.to_csv('../csv/after_cleaning/mubawab_preprocessed.csv', index=False)"
   ]
  },
  {
   "cell_type": "markdown",
   "metadata": {},
   "source": [
    "# Clean etage column"
   ]
  },
  {
   "cell_type": "code",
   "execution_count": 118,
   "metadata": {},
   "outputs": [
    {
     "name": "stdout",
     "output_type": "stream",
     "text": [
      "<class 'pandas.core.series.Series'>\n",
      "Index: 2560 entries, 0 to 2636\n",
      "Series name: etage\n",
      "Non-Null Count  Dtype \n",
      "--------------  ----- \n",
      "937 non-null    object\n",
      "dtypes: object(1)\n",
      "memory usage: 40.0+ KB\n"
     ]
    }
   ],
   "source": [
    "df['etage'].info()"
   ]
  },
  {
   "cell_type": "markdown",
   "metadata": {},
   "source": [
    "**convert it to int**"
   ]
  },
  {
   "cell_type": "code",
   "execution_count": 119,
   "metadata": {},
   "outputs": [
    {
     "name": "stdout",
     "output_type": "stream",
     "text": [
      "0       2\n",
      "1    <NA>\n",
      "2    <NA>\n",
      "3    <NA>\n",
      "4       2\n",
      "Name: etage, dtype: Int64\n"
     ]
    }
   ],
   "source": [
    "df['etage'] = df['etage'].str.extract(r'(\\d+)').astype(float).astype('Int64')  # Convert to integer while allowing NaN\n",
    "\n",
    "print(df['etage'].head())\n"
   ]
  },
  {
   "cell_type": "markdown",
   "metadata": {},
   "source": [
    "**handle missing values: replace for most common value in each gouvernorat**"
   ]
  },
  {
   "cell_type": "code",
   "execution_count": 120,
   "metadata": {},
   "outputs": [],
   "source": [
    "# Fill missing values with the mode for each 'gouvernorat'\n",
    "df['etage'] = df['etage'].fillna(\n",
    "    df.groupby('gouvernorat')['etage'].transform(lambda x: x.mode()[0] if not x.mode().empty else None)\n",
    ")\n"
   ]
  },
  {
   "cell_type": "markdown",
   "metadata": {},
   "source": [
    "**save current progress**"
   ]
  },
  {
   "cell_type": "code",
   "execution_count": 121,
   "metadata": {},
   "outputs": [],
   "source": [
    "df.to_csv('../csv/after_cleaning/mubawab_preprocessed.csv', index=False)"
   ]
  },
  {
   "cell_type": "markdown",
   "metadata": {},
   "source": [
    "# Clean salle de bain column"
   ]
  },
  {
   "cell_type": "code",
   "execution_count": 122,
   "metadata": {},
   "outputs": [
    {
     "name": "stdout",
     "output_type": "stream",
     "text": [
      "<class 'pandas.core.series.Series'>\n",
      "Index: 2560 entries, 0 to 2636\n",
      "Series name: salle_de_bains\n",
      "Non-Null Count  Dtype  \n",
      "--------------  -----  \n",
      "2239 non-null   float64\n",
      "dtypes: float64(1)\n",
      "memory usage: 40.0 KB\n"
     ]
    }
   ],
   "source": [
    "df['salle_de_bains'].info()"
   ]
  },
  {
   "cell_type": "code",
   "execution_count": 123,
   "metadata": {},
   "outputs": [
    {
     "name": "stdout",
     "output_type": "stream",
     "text": [
      "0    2\n",
      "1    2\n",
      "2    1\n",
      "3    1\n",
      "4    2\n",
      "Name: salle_de_bains, dtype: Int64\n"
     ]
    }
   ],
   "source": [
    "df['salle_de_bains'] = df['salle_de_bains'].astype('Int64')  # Convert to integer while allowing NaN\n",
    "\n",
    "print(df['salle_de_bains'].head())\n"
   ]
  },
  {
   "cell_type": "markdown",
   "metadata": {},
   "source": [
    "**handle missing value: if missing we can assume only 1 salle de bain**"
   ]
  },
  {
   "cell_type": "code",
   "execution_count": 124,
   "metadata": {},
   "outputs": [],
   "source": [
    "df['salle_de_bains'] = df['salle_de_bains'].fillna(1)"
   ]
  },
  {
   "cell_type": "markdown",
   "metadata": {},
   "source": [
    "**save current progress**"
   ]
  },
  {
   "cell_type": "code",
   "execution_count": 125,
   "metadata": {},
   "outputs": [],
   "source": [
    "df.to_csv('../csv/after_cleaning/mubawab_preprocessed.csv', index=False)"
   ]
  },
  {
   "cell_type": "markdown",
   "metadata": {},
   "source": [
    "# Clean chambre column"
   ]
  },
  {
   "cell_type": "code",
   "execution_count": 126,
   "metadata": {},
   "outputs": [
    {
     "name": "stdout",
     "output_type": "stream",
     "text": [
      "<class 'pandas.core.series.Series'>\n",
      "Index: 2560 entries, 0 to 2636\n",
      "Series name: chambres\n",
      "Non-Null Count  Dtype  \n",
      "--------------  -----  \n",
      "2316 non-null   float64\n",
      "dtypes: float64(1)\n",
      "memory usage: 40.0 KB\n"
     ]
    }
   ],
   "source": [
    "df['chambres'].info()"
   ]
  },
  {
   "cell_type": "markdown",
   "metadata": {},
   "source": [
    "**KNN Imputer for missing values**"
   ]
  },
  {
   "cell_type": "code",
   "execution_count": 149,
   "metadata": {},
   "outputs": [],
   "source": [
    "knn_imputer = KNNImputer(n_neighbors=1)  # Increase number of neighbors\n",
    "df['chambres'] = knn_imputer.fit_transform(df[['chambres']])\n",
    "df['chambres'] = df['chambres'].round().astype(int)\n"
   ]
  },
  {
   "cell_type": "code",
   "execution_count": 128,
   "metadata": {},
   "outputs": [],
   "source": [
    "df.to_csv('../csv/after_cleaning/mubawab_preprocessed.csv', index=False)"
   ]
  },
  {
   "cell_type": "markdown",
   "metadata": {},
   "source": [
    "# Clean nb_piece column"
   ]
  },
  {
   "cell_type": "code",
   "execution_count": 129,
   "metadata": {},
   "outputs": [
    {
     "data": {
      "text/plain": [
       "168"
      ]
     },
     "execution_count": 129,
     "metadata": {},
     "output_type": "execute_result"
    }
   ],
   "source": [
    "df['nb_pieces'].isna().sum()"
   ]
  },
  {
   "cell_type": "code",
   "execution_count": 130,
   "metadata": {},
   "outputs": [
    {
     "data": {
      "text/plain": [
       "0"
      ]
     },
     "execution_count": 130,
     "metadata": {},
     "output_type": "execute_result"
    }
   ],
   "source": [
    "mask = df['nb_pieces'].isna() & df['chambres'].notna()\n",
    "df.loc[mask, 'nb_pieces'] = df.loc[mask, 'chambres']\n",
    "df['nb_pieces'].isna().sum()"
   ]
  },
  {
   "cell_type": "markdown",
   "metadata": {},
   "source": [
    "# Clean price values"
   ]
  },
  {
   "cell_type": "code",
   "execution_count": 131,
   "metadata": {},
   "outputs": [
    {
     "name": "stdout",
     "output_type": "stream",
     "text": [
      "count    2.044000e+03\n",
      "mean     4.891627e+05\n",
      "std      3.633349e+05\n",
      "min      2.800000e+04\n",
      "25%      2.680000e+05\n",
      "50%      3.980000e+05\n",
      "75%      5.906500e+05\n",
      "max      5.200000e+06\n",
      "Name: prix, dtype: float64\n"
     ]
    }
   ],
   "source": [
    "print(df.prix.describe())"
   ]
  },
  {
   "cell_type": "code",
   "execution_count": 132,
   "metadata": {},
   "outputs": [
    {
     "name": "stdout",
     "output_type": "stream",
     "text": [
      "173\n"
     ]
    }
   ],
   "source": [
    "count = (df['prix'] >900000).sum() \n",
    "print(count)"
   ]
  },
  {
   "cell_type": "code",
   "execution_count": 133,
   "metadata": {},
   "outputs": [
    {
     "name": "stdout",
     "output_type": "stream",
     "text": [
      "11\n"
     ]
    }
   ],
   "source": [
    "count = (df['prix'] <100000).sum() \n",
    "print(count)\n",
    "\n",
    "# print(df[df['prix'] < 100000])\n",
    "# df[df['prix'] < 100000].to_csv('../csv/after_cleaning/out.csv', index=False)"
   ]
  },
  {
   "cell_type": "code",
   "execution_count": 134,
   "metadata": {},
   "outputs": [],
   "source": [
    "df.iloc[(df['prix'] <100000).values, df.columns.get_loc('prix')] = 100000"
   ]
  },
  {
   "cell_type": "code",
   "execution_count": 135,
   "metadata": {},
   "outputs": [
    {
     "data": {
      "text/plain": [
       "516"
      ]
     },
     "execution_count": 135,
     "metadata": {},
     "output_type": "execute_result"
    }
   ],
   "source": [
    "df['prix'].isna().sum()"
   ]
  },
  {
   "cell_type": "markdown",
   "metadata": {},
   "source": [
    "**drop columns with missing price**"
   ]
  },
  {
   "cell_type": "code",
   "execution_count": 136,
   "metadata": {},
   "outputs": [],
   "source": [
    "df.dropna(subset=['prix'], inplace=True)"
   ]
  },
  {
   "cell_type": "code",
   "execution_count": 137,
   "metadata": {},
   "outputs": [],
   "source": [
    "df.to_csv('../csv/after_cleaning/mubawab_preprocessed.csv', index=False)"
   ]
  },
  {
   "cell_type": "markdown",
   "metadata": {},
   "source": [
    "# Encoding for categorical features"
   ]
  },
  {
   "cell_type": "markdown",
   "metadata": {},
   "source": [
    "#  Ordinal encoding for etat"
   ]
  },
  {
   "cell_type": "code",
   "execution_count": 138,
   "metadata": {},
   "outputs": [
    {
     "name": "stdout",
     "output_type": "stream",
     "text": [
      "<class 'pandas.core.series.Series'>\n",
      "Index: 2044 entries, 3 to 2636\n",
      "Series name: etat\n",
      "Non-Null Count  Dtype \n",
      "--------------  ----- \n",
      "1769 non-null   object\n",
      "dtypes: object(1)\n",
      "memory usage: 31.9+ KB\n",
      "[\"Moins d'un an\" nan 'Bon état' 'Nouveau' '1-5 ans' '5-10 ans' '10-20 ans'\n",
      " '20-30 ans' 'À rénover' '30-50 ans' '70-100 ans']\n"
     ]
    }
   ],
   "source": [
    "df['etat'].info()\n",
    "# check the unique values in the column\n",
    "print(df['etat'].unique())"
   ]
  },
  {
   "cell_type": "code",
   "execution_count": 139,
   "metadata": {},
   "outputs": [],
   "source": [
    "df['etat'] = df['etat'].fillna('nan')"
   ]
  },
  {
   "cell_type": "markdown",
   "metadata": {},
   "source": [
    "70-100 ans: 1  \n",
    "50-70 ans: 2  \n",
    "30-50 ans: 3  \n",
    "À rénover: 4  \n",
    "20-30 ans: 5  \n",
    "10-20 ans: 6  \n",
    "5-10 ans: 7  \n",
    "1-5 ans: 8  \n",
    "Moins d'un an: 9  \n",
    "Nouveau: 10  \n",
    "Bon état: 11\n"
   ]
  },
  {
   "cell_type": "markdown",
   "metadata": {},
   "source": [
    "**number of values inferior than 100000 outliers**"
   ]
  },
  {
   "cell_type": "code",
   "execution_count": null,
   "metadata": {},
   "outputs": [],
   "source": [
    "categories = [['nan', '70-100 ans','50-70 ans', '30-50 ans', 'À rénover', '20-30 ans', '10-20 ans', '5-10 ans', \n",
    "               '1-5 ans', 'Moins d\\'un an', 'Nouveau', 'Bon état']]\n",
    "\n",
    "\n",
    "# Initialize OrdinalEncoder with the custom order\n",
    "ordinal_encoder = OrdinalEncoder(categories=categories)\n",
    "\n",
    "# Apply Ordinal Encoding to the 'etat' column\n",
    "df['etat_encoded'] = ordinal_encoder.fit_transform(df[['etat']])\n"
   ]
  },
  {
   "cell_type": "markdown",
   "metadata": {},
   "source": [
    "**knn imputer for missing values**"
   ]
  },
  {
   "cell_type": "code",
   "execution_count": null,
   "metadata": {},
   "outputs": [],
   "source": [
    "\n",
    "# Mark 0 as NaN for missing values\n",
    "df['etat_encoded'] = df['etat_encoded'].replace(0.0, np.nan)\n",
    "\n",
    "scaler = StandardScaler()\n",
    "df['etat_encoded_scaled'] = scaler.fit_transform(df[['etat_encoded']])\n",
    "\n",
    "knn_imputer = KNNImputer(n_neighbors=10)  # Increase number of neighbors\n",
    "df['etat_encoded_scaled'] = knn_imputer.fit_transform(df[['etat_encoded_scaled']])\n",
    "\n",
    "df['etat_encoded'] = scaler.inverse_transform(df[['etat_encoded_scaled']])\n",
    "\n",
    "df['etat_encoded'] = df['etat_encoded'].round().astype(int)\n",
    "\n",
    "df.drop(columns=['etat_encoded_scaled'], inplace=True)\n"
   ]
  },
  {
   "cell_type": "code",
   "execution_count": null,
   "metadata": {},
   "outputs": [],
   "source": [
    "df['etat']= df['etat_encoded']\n",
    "df.drop(columns=['etat_encoded'], inplace=True)"
   ]
  },
  {
   "cell_type": "code",
   "execution_count": 143,
   "metadata": {},
   "outputs": [],
   "source": [
    "df.to_csv('../csv/after_cleaning/mubawab_preprocessed.csv', index=False)"
   ]
  },
  {
   "cell_type": "markdown",
   "metadata": {},
   "source": [
    "# One hot encoding for gouvernorat"
   ]
  },
  {
   "cell_type": "code",
   "execution_count": null,
   "metadata": {},
   "outputs": [],
   "source": [
    "# One-hot encoding\n",
    "encoder = OneHotEncoder(sparse_output=False)\n",
    "one_hot_encoded = encoder.fit_transform(df[['gouvernorat']])\n",
    "one_hot_df = pd.DataFrame(one_hot_encoded, columns=encoder.get_feature_names_out(['gouvernorat']))\n",
    "\n",
    "# Align indices before concatenating\n",
    "one_hot_df.index = df.index\n",
    "\n",
    "# Concatenate and drop the original column\n",
    "df_encoded = pd.concat([df, one_hot_df], axis=1)\n",
    "df = df_encoded.drop('gouvernorat', axis=1)"
   ]
  },
  {
   "cell_type": "code",
   "execution_count": 145,
   "metadata": {},
   "outputs": [],
   "source": [
    "df.to_csv('../csv/after_cleaning/mubawab_preprocessed.csv', index=False)"
   ]
  },
  {
   "cell_type": "markdown",
   "metadata": {},
   "source": [
    "# Encode delegation by rank given the average price for each delegation"
   ]
  },
  {
   "cell_type": "markdown",
   "metadata": {},
   "source": [
    "**we have 38 delegation**\n",
    "**the most expensive is 38, least expensive is 1**"
   ]
  },
  {
   "cell_type": "code",
   "execution_count": null,
   "metadata": {},
   "outputs": [],
   "source": [
    "# calculate the average price for each delegation\n",
    "avg_price = df.groupby('delegation')['prix'].mean().reset_index()\n",
    "avg_price = avg_price.rename(columns={'prix': 'avg_price'})\n",
    "\n",
    "# Rank delegations by average price\n",
    "avg_price['rank'] = avg_price['avg_price'].rank(ascending=True)\n",
    "avg_price = avg_price.sort_values(by='rank').reset_index(drop=True)\n",
    "# print(avg_price)\n",
    "\n",
    "# Merge rank back to original dataframe\n",
    "df['delegation'] = df['delegation'].map(avg_price.set_index('delegation')['rank'])\n",
    "# print(df)\n"
   ]
  },
  {
   "cell_type": "code",
   "execution_count": 147,
   "metadata": {},
   "outputs": [],
   "source": [
    "df.to_csv('../csv/after_cleaning/mubawab_preprocessed.csv', index=False)"
   ]
  },
  {
   "cell_type": "markdown",
   "metadata": {},
   "source": [
    "**make price last column**"
   ]
  },
  {
   "cell_type": "code",
   "execution_count": 148,
   "metadata": {},
   "outputs": [],
   "source": [
    "# Reorder columns to make 'prix' the last column\n",
    "cols = [col for col in df.columns if col != 'prix'] + ['prix']\n",
    "df = df[cols]\n",
    "\n",
    "df.to_csv('../csv/after_cleaning/mubawab_preprocessed.csv', index=False)"
   ]
  },
  {
   "cell_type": "markdown",
   "metadata": {},
   "source": []
  }
 ],
 "metadata": {
  "kernelspec": {
   "display_name": "venv",
   "language": "python",
   "name": "python3"
  },
  "language_info": {
   "codemirror_mode": {
    "name": "ipython",
    "version": 3
   },
   "file_extension": ".py",
   "mimetype": "text/x-python",
   "name": "python",
   "nbconvert_exporter": "python",
   "pygments_lexer": "ipython3",
   "version": "3.10.15"
  }
 },
 "nbformat": 4,
 "nbformat_minor": 2
}
