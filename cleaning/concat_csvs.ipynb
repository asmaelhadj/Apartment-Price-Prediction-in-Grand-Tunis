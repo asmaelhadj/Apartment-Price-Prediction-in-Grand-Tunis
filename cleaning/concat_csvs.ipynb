{
 "cells": [
  {
   "cell_type": "code",
   "execution_count": 111,
   "metadata": {},
   "outputs": [],
   "source": [
    "import pandas as pd\n",
    "import numpy as np\n",
    "from sklearn.impute import KNNImputer\n",
    "from sklearn.preprocessing import OrdinalEncoder\n",
    "from sklearn.preprocessing import StandardScaler\n",
    "from sklearn.preprocessing import OneHotEncoder\n"
   ]
  },
  {
   "cell_type": "markdown",
   "metadata": {},
   "source": [
    "**export data**"
   ]
  },
  {
   "cell_type": "code",
   "execution_count": 112,
   "metadata": {},
   "outputs": [],
   "source": [
    "df_mubawab=pd.read_csv('../csv/after_cleaning/mubawab_preprocessed.csv')\n",
    "df_menzili=pd.read_csv('../csv/after_cleaning/menzili_preprocessed.csv')\n",
    "df_tayara=pd.read_csv('../csv/after_cleaning/tayara_preprocessed.csv')"
   ]
  },
  {
   "cell_type": "code",
   "execution_count": 113,
   "metadata": {},
   "outputs": [
    {
     "data": {
      "text/plain": [
       "array(['Aouina', 'El Ouardia', 'Ariana Ville', 'El Manar', 'Gammarth',\n",
       "       'Ain Zaghouan', 'Le Bardo', 'El Menzah 7', 'Les Berges Du Lac',\n",
       "       'Cite El Khadra', 'La Goulette', 'Bab Saadoun', 'Bab Bhar',\n",
       "       'El Omrane', 'Hrairia', 'Sidi Hassine', 'Bab El Khadra',\n",
       "       'Montfleury', 'Montplaisir', 'Sijoumi', 'Ettahrir', 'La Soukra',\n",
       "       'Cite El Ghazela', 'Cite Ennasr', 'Raoued', 'El Mourouj',\n",
       "       'Kalaat Landalous', 'Boumhel', 'Mornag', 'Ben Arous', 'Rades',\n",
       "       'Borj Cedria', 'Ezzahra', 'Hammam Lif', 'Mohamadia', 'Fouchana',\n",
       "       'Megrine', 'La Manouba'], dtype=object)"
      ]
     },
     "execution_count": 113,
     "metadata": {},
     "output_type": "execute_result"
    }
   ],
   "source": [
    "df_mubawab['delegation'].unique()"
   ]
  },
  {
   "cell_type": "code",
   "execution_count": 114,
   "metadata": {},
   "outputs": [
    {
     "data": {
      "text/plain": [
       "array(['Cite Ennasr', 'Cite El Ghazela', 'ariana', 'La Soukra',\n",
       "       'El Menzah 1', 'Raoued', 'Borj Louzir', 'El Manar', 'Chotrana',\n",
       "       'Kalaât El Andalous', 'Ettadhamen', 'Cite El Khadra',\n",
       "       'Cité Olympique', 'ben-arous', 'Aïn Zaghouan', 'El Ouardia',\n",
       "       'Centre Urbain Nord', 'Aouina', 'Sidi El Bechir',\n",
       "       'Les Berges Du Lac', 'Mutuelleville', 'Le Bardo', 'Sidi Daoud',\n",
       "       'Ezzouhour', 'El Omrane', 'La Goulette', 'Ettahrir', 'Gammarth',\n",
       "       'Agba', 'Sidi Hassine', 'Hrairia', 'Djebel Jelloud',\n",
       "       'Sidi Bou Said', 'Ezzahra', 'Borj Cedria', 'Rades', 'Hammam Lif',\n",
       "       'El Mourouj', 'Fouchana', 'Megrine', 'Mornag', 'Boumhel'],\n",
       "      dtype=object)"
      ]
     },
     "execution_count": 114,
     "metadata": {},
     "output_type": "execute_result"
    }
   ],
   "source": [
    "df_menzili['delegation'].unique()"
   ]
  },
  {
   "cell_type": "code",
   "execution_count": 115,
   "metadata": {},
   "outputs": [
    {
     "name": "stderr",
     "output_type": "stream",
     "text": [
      "/tmp/ipykernel_39129/2157630749.py:1: FutureWarning: A value is trying to be set on a copy of a DataFrame or Series through chained assignment using an inplace method.\n",
      "The behavior will change in pandas 3.0. This inplace method will never work because the intermediate object on which we are setting values always behaves as a copy.\n",
      "\n",
      "For example, when doing 'df[col].method(value, inplace=True)', try using 'df.method({col: value}, inplace=True)' or df[col] = df[col].method(value) instead, to perform the operation inplace on the original object.\n",
      "\n",
      "\n",
      "  df_menzili['delegation'].replace('Kalaât El Andalous', 'Kalaat Landalous', inplace=True)\n",
      "/tmp/ipykernel_39129/2157630749.py:2: FutureWarning: A value is trying to be set on a copy of a DataFrame or Series through chained assignment using an inplace method.\n",
      "The behavior will change in pandas 3.0. This inplace method will never work because the intermediate object on which we are setting values always behaves as a copy.\n",
      "\n",
      "For example, when doing 'df[col].method(value, inplace=True)', try using 'df.method({col: value}, inplace=True)' or df[col] = df[col].method(value) instead, to perform the operation inplace on the original object.\n",
      "\n",
      "\n",
      "  df_menzili['delegation'].replace('ben-arous', 'Ben Arous', inplace=True)\n",
      "/tmp/ipykernel_39129/2157630749.py:3: FutureWarning: A value is trying to be set on a copy of a DataFrame or Series through chained assignment using an inplace method.\n",
      "The behavior will change in pandas 3.0. This inplace method will never work because the intermediate object on which we are setting values always behaves as a copy.\n",
      "\n",
      "For example, when doing 'df[col].method(value, inplace=True)', try using 'df.method({col: value}, inplace=True)' or df[col] = df[col].method(value) instead, to perform the operation inplace on the original object.\n",
      "\n",
      "\n",
      "  df_menzili['delegation'].replace('ariana', 'Ariana Ville', inplace=True)\n",
      "/tmp/ipykernel_39129/2157630749.py:4: FutureWarning: A value is trying to be set on a copy of a DataFrame or Series through chained assignment using an inplace method.\n",
      "The behavior will change in pandas 3.0. This inplace method will never work because the intermediate object on which we are setting values always behaves as a copy.\n",
      "\n",
      "For example, when doing 'df[col].method(value, inplace=True)', try using 'df.method({col: value}, inplace=True)' or df[col] = df[col].method(value) instead, to perform the operation inplace on the original object.\n",
      "\n",
      "\n",
      "  df_menzili['delegation'].replace('Aïn Zaghouan', 'Ain Zaghouan', inplace=True)\n"
     ]
    }
   ],
   "source": [
    "df_menzili['delegation'].replace('Kalaât El Andalous', 'Kalaat Landalous', inplace=True)\n",
    "df_menzili['delegation'].replace('ben-arous', 'Ben Arous', inplace=True)\n",
    "df_menzili['delegation'].replace('ariana', 'Ariana Ville', inplace=True)\n",
    "df_menzili['delegation'].replace('Aïn Zaghouan', 'Ain Zaghouan', inplace=True)\n",
    "\n",
    "\n"
   ]
  },
  {
   "cell_type": "markdown",
   "metadata": {},
   "source": [
    "**knn imputer for etat**"
   ]
  },
  {
   "cell_type": "code",
   "execution_count": 116,
   "metadata": {},
   "outputs": [],
   "source": [
    "df_mubawab.drop(['etat'], axis=1, inplace=True)"
   ]
  },
  {
   "cell_type": "code",
   "execution_count": 117,
   "metadata": {},
   "outputs": [],
   "source": [
    "df_final=pd.concat([df_mubawab,df_menzili],axis=0)"
   ]
  },
  {
   "cell_type": "code",
   "execution_count": 118,
   "metadata": {},
   "outputs": [
    {
     "data": {
      "text/plain": [
       "0       340000\n",
       "1       135000\n",
       "2       680000\n",
       "3       470000\n",
       "4       260000\n",
       "         ...  \n",
       "1952    130000\n",
       "1953    265000\n",
       "1954    100000\n",
       "1955    100000\n",
       "1956    250000\n",
       "Name: prix, Length: 4001, dtype: int64"
      ]
     },
     "execution_count": 118,
     "metadata": {},
     "output_type": "execute_result"
    }
   ],
   "source": [
    "df_final['prix'].astype(int)"
   ]
  },
  {
   "cell_type": "code",
   "execution_count": 119,
   "metadata": {},
   "outputs": [],
   "source": [
    "df_final=pd.concat([df_final,df_tayara],axis=0)"
   ]
  },
  {
   "cell_type": "code",
   "execution_count": 120,
   "metadata": {},
   "outputs": [],
   "source": [
    "df_final.to_csv('../csv/after_cleaning/final_concated.csv', index=False)\n",
    "df=df_final"
   ]
  },
  {
   "cell_type": "code",
   "execution_count": 121,
   "metadata": {},
   "outputs": [
    {
     "name": "stderr",
     "output_type": "stream",
     "text": [
      "/tmp/ipykernel_39129/2887036468.py:1: FutureWarning: A value is trying to be set on a copy of a DataFrame or Series through chained assignment using an inplace method.\n",
      "The behavior will change in pandas 3.0. This inplace method will never work because the intermediate object on which we are setting values always behaves as a copy.\n",
      "\n",
      "For example, when doing 'df[col].method(value, inplace=True)', try using 'df.method({col: value}, inplace=True)' or df[col] = df[col].method(value) instead, to perform the operation inplace on the original object.\n",
      "\n",
      "\n",
      "  df['delegation'].replace('El Omrane Supérieur', 'El Omrane', inplace=True)\n",
      "/tmp/ipykernel_39129/2887036468.py:3: FutureWarning: A value is trying to be set on a copy of a DataFrame or Series through chained assignment using an inplace method.\n",
      "The behavior will change in pandas 3.0. This inplace method will never work because the intermediate object on which we are setting values always behaves as a copy.\n",
      "\n",
      "For example, when doing 'df[col].method(value, inplace=True)', try using 'df.method({col: value}, inplace=True)' or df[col] = df[col].method(value) instead, to perform the operation inplace on the original object.\n",
      "\n",
      "\n",
      "  df['delegation'].replace('Cité Ennasr', 'Cite Ennasr', inplace=True)\n",
      "/tmp/ipykernel_39129/2887036468.py:5: FutureWarning: A value is trying to be set on a copy of a DataFrame or Series through chained assignment using an inplace method.\n",
      "The behavior will change in pandas 3.0. This inplace method will never work because the intermediate object on which we are setting values always behaves as a copy.\n",
      "\n",
      "For example, when doing 'df[col].method(value, inplace=True)', try using 'df.method({col: value}, inplace=True)' or df[col] = df[col].method(value) instead, to perform the operation inplace on the original object.\n",
      "\n",
      "\n",
      "  df['delegation'].replace('Cité Olympique', 'Cite Olympique', inplace=True)\n",
      "/tmp/ipykernel_39129/2887036468.py:6: FutureWarning: A value is trying to be set on a copy of a DataFrame or Series through chained assignment using an inplace method.\n",
      "The behavior will change in pandas 3.0. This inplace method will never work because the intermediate object on which we are setting values always behaves as a copy.\n",
      "\n",
      "For example, when doing 'df[col].method(value, inplace=True)', try using 'df.method({col: value}, inplace=True)' or df[col] = df[col].method(value) instead, to perform the operation inplace on the original object.\n",
      "\n",
      "\n",
      "  df['delegation'].replace('Jaafar', 'Raoued', inplace=True)\n"
     ]
    }
   ],
   "source": [
    "df['delegation'].replace('El Omrane Supérieur', 'El Omrane', inplace=True)\n",
    "\n",
    "df['delegation'].replace('Cité Ennasr', 'Cite Ennasr', inplace=True)\n",
    "\n",
    "df['delegation'].replace('Cité Olympique', 'Cite Olympique', inplace=True)\n",
    "df['delegation'].replace('Jaafar', 'Raoued', inplace=True)\n"
   ]
  },
  {
   "cell_type": "markdown",
   "metadata": {},
   "source": [
    "# Encoding for categorical features"
   ]
  },
  {
   "cell_type": "markdown",
   "metadata": {},
   "source": [
    "# One hot encoding for gouvernorat"
   ]
  },
  {
   "cell_type": "code",
   "execution_count": 122,
   "metadata": {},
   "outputs": [
    {
     "data": {
      "text/plain": [
       "array(['tunis', 'ariana', 'ben-arous', 'la-manouba'], dtype=object)"
      ]
     },
     "execution_count": 122,
     "metadata": {},
     "output_type": "execute_result"
    }
   ],
   "source": [
    "df['gouvernorat'].unique()"
   ]
  },
  {
   "cell_type": "code",
   "execution_count": 123,
   "metadata": {},
   "outputs": [],
   "source": [
    "# One-hot encoding\n",
    "encoder = OneHotEncoder(sparse_output=False)\n",
    "one_hot_encoded = encoder.fit_transform(df[['gouvernorat']])\n",
    "one_hot_df = pd.DataFrame(one_hot_encoded, columns=encoder.get_feature_names_out(['gouvernorat']))\n",
    "\n",
    "# Align indices before concatenating\n",
    "one_hot_df.index = df.index\n",
    "\n",
    "# Concatenate and drop the original column\n",
    "df_encoded = pd.concat([df, one_hot_df], axis=1)\n",
    "df = df_encoded.drop('gouvernorat', axis=1)"
   ]
  },
  {
   "cell_type": "code",
   "execution_count": 124,
   "metadata": {},
   "outputs": [],
   "source": [
    "df.to_csv('../csv/after_cleaning/final_concated.csv', index=False)"
   ]
  },
  {
   "cell_type": "markdown",
   "metadata": {},
   "source": [
    "# Encode delegation by rank given the average price for each delegation"
   ]
  },
  {
   "cell_type": "markdown",
   "metadata": {},
   "source": [
    "**we have 38 delegation**\n",
    "**the most expensive is 38, least expensive is 1**"
   ]
  },
  {
   "cell_type": "code",
   "execution_count": 125,
   "metadata": {},
   "outputs": [],
   "source": [
    "# calculate the average price for each delegation\n",
    "avg_price = df.groupby('delegation')['prix'].mean().reset_index()\n",
    "avg_price = avg_price.rename(columns={'prix': 'avg_price'})\n",
    "\n",
    "# Rank delegations by average price\n",
    "avg_price['rank'] = avg_price['avg_price'].rank(ascending=True)\n",
    "avg_price = avg_price.sort_values(by='rank').reset_index(drop=True)\n",
    "# print(avg_price)\n",
    "\n",
    "# Merge rank back to original dataframe\n",
    "df['delegation'] = df['delegation'].map(avg_price.set_index('delegation')['rank'])\n",
    "# print(df)\n"
   ]
  },
  {
   "cell_type": "code",
   "execution_count": 130,
   "metadata": {},
   "outputs": [
    {
     "data": {
      "text/plain": [
       "(62,)"
      ]
     },
     "execution_count": 130,
     "metadata": {},
     "output_type": "execute_result"
    }
   ],
   "source": [
    "df['delegation'].unique().shape"
   ]
  },
  {
   "cell_type": "code",
   "execution_count": 127,
   "metadata": {},
   "outputs": [],
   "source": [
    "df.to_csv('../csv/after_cleaning/final_concated.csv', index=False)"
   ]
  },
  {
   "cell_type": "markdown",
   "metadata": {},
   "source": [
    "**make price last column**"
   ]
  },
  {
   "cell_type": "code",
   "execution_count": null,
   "metadata": {},
   "outputs": [],
   "source": [
    "# Reorder columns to make 'prix' the last column\n",
    "cols = [col for col in df.columns if col != 'prix'] + ['prix']\n",
    "df = df[cols]\n",
    "\n",
    "df.to_csv('../csv/after_cleaning/mubawab_tayara_menzili_final.csv', index=False)"
   ]
  },
  {
   "cell_type": "markdown",
   "metadata": {},
   "source": []
  }
 ],
 "metadata": {
  "kernelspec": {
   "display_name": "venv",
   "language": "python",
   "name": "python3"
  },
  "language_info": {
   "codemirror_mode": {
    "name": "ipython",
    "version": 3
   },
   "file_extension": ".py",
   "mimetype": "text/x-python",
   "name": "python",
   "nbconvert_exporter": "python",
   "pygments_lexer": "ipython3",
   "version": "3.10.15"
  }
 },
 "nbformat": 4,
 "nbformat_minor": 2
}
